{
  "nbformat": 4,
  "nbformat_minor": 0,
  "metadata": {
    "colab": {
      "name": "pa6.ipynb",
      "provenance": [],
      "collapsed_sections": []
    },
    "kernelspec": {
      "name": "python3",
      "display_name": "Python 3"
    },
    "language_info": {
      "name": "python"
    }
  },
  "cells": [
    {
      "cell_type": "code",
      "execution_count": null,
      "metadata": {
        "id": "0e4Ti2oD8w66"
      },
      "outputs": [],
      "source": [
        "# 1.) suppose we are watching video on youtube then in case of disconnection of internet it will give an exception error meassage\n",
        "#  Opening a non-existing file in your program.\n",
        "#  Reading a file from a disk but the file does exist there."
      ]
    },
    {
      "cell_type": "code",
      "source": [
        "# 2.) If no exception occurs during the execution, the execution will reach the break statement and the while loop will be left."
      ],
      "metadata": {
        "id": "ce6QsKqJGyun"
      },
      "execution_count": null,
      "outputs": []
    },
    {
      "cell_type": "code",
      "source": [
        "# 3.) first try block is excecuted if there are any errors it will break statement, it can be recovered by except, else and finally block"
      ],
      "metadata": {
        "id": "fo36tNZ8Gy3V"
      },
      "execution_count": null,
      "outputs": []
    },
    {
      "cell_type": "code",
      "source": [
        "# 4.) Try - This method catches the exceptions raised by the program. Raise -Triggers an exception manually using custom exceptions"
      ],
      "metadata": {
        "id": "HssJ1zbAGy7S"
      },
      "execution_count": null,
      "outputs": []
    },
    {
      "cell_type": "code",
      "source": [
        "# 5.)The optional else clause contains codes to be executed if no exception occurs.\n",
        "#  The optional finally block contains codes to be executed irrespective of whether an exception occurs or not.\n",
        "\n"
      ],
      "metadata": {
        "id": "cmKqA79nGzAC"
      },
      "execution_count": null,
      "outputs": []
    }
  ]
}