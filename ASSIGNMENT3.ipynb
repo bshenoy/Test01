{
  "nbformat": 4,
  "nbformat_minor": 0,
  "metadata": {
    "colab": {
      "name": "ASSIGNMENT3.ipynb",
      "provenance": [],
      "collapsed_sections": []
    },
    "kernelspec": {
      "name": "python3",
      "display_name": "Python 3"
    },
    "language_info": {
      "name": "python"
    }
  },
  "cells": [
    {
      "cell_type": "code",
      "execution_count": null,
      "metadata": {
        "id": "Wwl51Sop46YG"
      },
      "outputs": [],
      "source": [
        "# 1. Functions helps in reducing the dublicate code once if it is created can be used whenever required\n"
      ]
    },
    {
      "cell_type": "code",
      "source": [
        "# 2. Function is executed when the function() is called not when when function is created"
      ],
      "metadata": {
        "id": "MgZ8SfFqD8WB"
      },
      "execution_count": null,
      "outputs": []
    },
    {
      "cell_type": "code",
      "source": [
        "# 3. the def() statement creates the function "
      ],
      "metadata": {
        "id": "FblvGe3dD8ZC"
      },
      "execution_count": null,
      "outputs": []
    },
    {
      "cell_type": "code",
      "source": [
        "# 4. Function consist of statementas and codes to be executed"
      ],
      "metadata": {
        "id": "f5x8gR2AD8bp"
      },
      "execution_count": null,
      "outputs": []
    },
    {
      "cell_type": "code",
      "source": [
        "# 5. One global and one local variable is created when f() is created\n",
        "#  local scope exits only in nested function\n",
        "# global scope contains names we define at top level of program module"
      ],
      "metadata": {
        "id": "rHFRQKMND8eZ"
      },
      "execution_count": null,
      "outputs": []
    },
    {
      "cell_type": "code",
      "source": [
        "# 6. local variable is destroyed after function returns"
      ],
      "metadata": {
        "id": "1bA29-brD8hB"
      },
      "execution_count": null,
      "outputs": []
    },
    {
      "cell_type": "code",
      "source": [
        "#  7.) Return statement is used at time of execution of function. The return statement retuns value or (value of expression to function).\n",
        "#  If return is used without expresstion then special value of nonetype is returned to the function."
      ],
      "metadata": {
        "id": "Epaqi56tD2Fb"
      },
      "execution_count": null,
      "outputs": []
    },
    {
      "cell_type": "code",
      "source": [
        "# 8.) if return statement is not used function then it returns none"
      ],
      "metadata": {
        "id": "unSl8qj66NcU"
      },
      "execution_count": null,
      "outputs": []
    },
    {
      "cell_type": "code",
      "source": [
        "# 9.) method global() will help make a function variable refer to the global variable"
      ],
      "metadata": {
        "id": "N3LGuxUj7GHs"
      },
      "execution_count": null,
      "outputs": []
    },
    {
      "cell_type": "code",
      "source": [
        "# 10.) NoneType"
      ],
      "metadata": {
        "id": "KYWNfjFV7O-y"
      },
      "execution_count": null,
      "outputs": []
    },
    {
      "cell_type": "code",
      "source": [
        "# 11.)import statement help in importing from module named areallyourpetsnamederic "
      ],
      "metadata": {
        "id": "_hc2rvK17RQB",
        "colab": {
          "base_uri": "https://localhost:8080/"
        },
        "outputId": "068c4725-050a-4ba7-eed4-22a9db14d661"
      },
      "execution_count": null,
      "outputs": [
        {
          "output_type": "execute_result",
          "data": {
            "text/plain": [
              "NoneType"
            ]
          },
          "metadata": {},
          "execution_count": 17
        }
      ]
    },
    {
      "cell_type": "code",
      "source": [
        "# 12.) spam.bacon()"
      ],
      "metadata": {
        "id": "Viii8xalHfso"
      },
      "execution_count": null,
      "outputs": []
    },
    {
      "cell_type": "code",
      "source": [
        "# 13.) The errors can be handled by using error handling method that is try and Exception method which will notify when error is occured"
      ],
      "metadata": {
        "id": "VrjJrBRVepDE"
      },
      "execution_count": null,
      "outputs": []
    },
    {
      "cell_type": "code",
      "source": [
        "# 14.) it is used to test code using try method during error handling if error ocuured it can be notified using except."
      ],
      "metadata": {
        "id": "VgXE9qMvfYEj"
      },
      "execution_count": null,
      "outputs": []
    }
  ]
}