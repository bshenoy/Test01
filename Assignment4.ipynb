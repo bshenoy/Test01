{
  "nbformat": 4,
  "nbformat_minor": 0,
  "metadata": {
    "colab": {
      "name": "4.ipynb",
      "provenance": [],
      "collapsed_sections": []
    },
    "kernelspec": {
      "name": "python3",
      "display_name": "Python 3"
    },
    "language_info": {
      "name": "python"
    }
  },
  "cells": [
    {
      "cell_type": "code",
      "execution_count": null,
      "metadata": {
        "id": "cMib5T9285av"
      },
      "outputs": [],
      "source": [
        "# 1.) square brackets also can be called as an empty list without any items"
      ]
    },
    {
      "cell_type": "code",
      "source": [
        "# 2.) spam[2]= \"Hello\""
      ],
      "metadata": {
        "id": "aOnkWsONhBlh"
      },
      "execution_count": null,
      "outputs": []
    },
    {
      "cell_type": "code",
      "source": [
        "# 3.) 'd'"
      ],
      "metadata": {
        "id": "er4RPuaOhBrD"
      },
      "execution_count": null,
      "outputs": []
    },
    {
      "cell_type": "code",
      "source": [
        "# 4.) 'd'"
      ],
      "metadata": {
        "id": "ekbmIHG_hBtr"
      },
      "execution_count": null,
      "outputs": []
    },
    {
      "cell_type": "code",
      "source": [
        "# 5.)['a', 'b']"
      ],
      "metadata": {
        "id": "RXM_Ign4hBwY"
      },
      "execution_count": null,
      "outputs": []
    },
    {
      "cell_type": "code",
      "source": [
        "# 6.) 1"
      ],
      "metadata": {
        "id": "9zSgmrYGhBy6"
      },
      "execution_count": null,
      "outputs": []
    },
    {
      "cell_type": "code",
      "source": [
        "# 7.)[3.14, 'cat', 11, 'cat', True, 99]"
      ],
      "metadata": {
        "id": "hhwcm-szhB1y"
      },
      "execution_count": null,
      "outputs": []
    },
    {
      "cell_type": "code",
      "source": [
        "# 8.)[3.14, 11, 'cat', True, 99]"
      ],
      "metadata": {
        "id": "NzL46gipka_b"
      },
      "execution_count": null,
      "outputs": []
    },
    {
      "cell_type": "code",
      "source": [
        "# 9.)  list concatenation operator is + and list replication operator is *"
      ],
      "metadata": {
        "id": "kqjZnESGkzzR"
      },
      "execution_count": null,
      "outputs": []
    },
    {
      "cell_type": "code",
      "source": [
        "# 10.) insert() adds specific element at specific location of list and append() adds element only at the end of the list"
      ],
      "metadata": {
        "id": "dOt-bwmFk0IZ"
      },
      "execution_count": null,
      "outputs": []
    },
    {
      "cell_type": "code",
      "source": [
        "# 11.) remove(), pop() and clear()"
      ],
      "metadata": {
        "id": "kdRYcJPKk0LA"
      },
      "execution_count": null,
      "outputs": []
    },
    {
      "cell_type": "code",
      "source": [
        "# 12.) The similarity between Lists and Strings in Python is that both are sequences. The differences between them are  Lists are mutable but Strings are immutable."
      ],
      "metadata": {
        "id": "t06qnD6uk0No"
      },
      "execution_count": null,
      "outputs": []
    },
    {
      "cell_type": "code",
      "source": [
        "# 13.) The key difference between lists and tuples is that a tuple is immutable and lists are mutable."
      ],
      "metadata": {
        "id": "kUkR7o2Zk0QL"
      },
      "execution_count": null,
      "outputs": []
    },
    {
      "cell_type": "code",
      "source": [
        "# 14.) (42,)"
      ],
      "metadata": {
        "id": "wCD_zKD4yX0K"
      },
      "execution_count": null,
      "outputs": []
    },
    {
      "cell_type": "code",
      "source": [
        "# 15.) "
      ],
      "metadata": {
        "id": "lqVG_mAXk0TF"
      },
      "execution_count": null,
      "outputs": []
    },
    {
      "cell_type": "code",
      "source": [
        "# 16.) Variables will contain references to list values rather than list values themselves. But for strings and integer values, \n",
        "# variables simply contain the string or integer value. Python uses references whenever variables must store values of mutable data types, such as lists or dictionaries.\n",
        "#  For values of immutable data types such as strings, integers, or tuples, Python variables will store the value itself."
      ],
      "metadata": {
        "id": "YSnPkQHj44qr"
      },
      "execution_count": null,
      "outputs": []
    },
    {
      "cell_type": "code",
      "source": [
        "# 17.) copy.copy(s) -  Return a shallow copy of s with same memory  reference\n",
        "\n",
        "# copy.deepcopy(s[, memo]) - Return a deep copy of s with new memory reference"
      ],
      "metadata": {
        "id": "nsZ847Bb9OMd"
      },
      "execution_count": null,
      "outputs": []
    }
  ]
}