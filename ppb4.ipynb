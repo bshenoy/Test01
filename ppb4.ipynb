{
  "nbformat": 4,
  "nbformat_minor": 0,
  "metadata": {
    "colab": {
      "name": "ppb4.ipynb",
      "provenance": [],
      "collapsed_sections": []
    },
    "kernelspec": {
      "name": "python3",
      "display_name": "Python 3"
    },
    "language_info": {
      "name": "python"
    }
  },
  "cells": [
    {
      "cell_type": "code",
      "execution_count": null,
      "metadata": {
        "id": "Ayevmdq_GjX8",
        "colab": {
          "base_uri": "https://localhost:8080/"
        },
        "outputId": "cb73469e-611d-47ae-caa8-6455566ead5f"
      },
      "outputs": [
        {
          "output_type": "stream",
          "name": "stdout",
          "text": [
            "enter a number 6\n",
            "factorial of given number is :  720\n"
          ]
        }
      ],
      "source": [
        "# 1.) print factorial of a number\n",
        "num = int(input(\"enter a number \"))\n",
        "fact = 1\n",
        "for i in range (1, num+1):\n",
        "  fact=fact*i\n",
        "\n",
        "print(\"factorial of given number is : \", fact)"
      ]
    },
    {
      "cell_type": "code",
      "source": [
        ""
      ],
      "metadata": {
        "id": "bpWEbjya0MKU"
      },
      "execution_count": null,
      "outputs": []
    },
    {
      "cell_type": "code",
      "source": [
        "# 2.) display the multiplication table\n",
        "a = int(input(\"enter number to display multiplication table \"))\n",
        "\n",
        "for i in range(1 , 11):\n",
        "  print(a ,\" * \" , i, \" = \", a*i)"
      ],
      "metadata": {
        "colab": {
          "base_uri": "https://localhost:8080/"
        },
        "id": "f7rerPrtMDRH",
        "outputId": "6e8620fe-c6bc-4803-dfc0-4acb4e724514"
      },
      "execution_count": null,
      "outputs": [
        {
          "output_type": "stream",
          "name": "stdout",
          "text": [
            "enter number to display multiplication table 122\n",
            "122  *  1  =  122\n",
            "122  *  2  =  244\n",
            "122  *  3  =  366\n",
            "122  *  4  =  488\n",
            "122  *  5  =  610\n",
            "122  *  6  =  732\n",
            "122  *  7  =  854\n",
            "122  *  8  =  976\n",
            "122  *  9  =  1098\n",
            "122  *  10  =  1220\n"
          ]
        }
      ]
    },
    {
      "cell_type": "code",
      "source": [
        "\n",
        "# 2.) display the multiplication table\n",
        "\n",
        "num = int(input(\"Display multiplication table of \"))\n",
        "\n",
        "# Iterate 10 times from i = 1 to 10\n",
        "for i in range(1, 11):\n",
        "   print(num, 'x', i, '=', num*i)"
      ],
      "metadata": {
        "colab": {
          "base_uri": "https://localhost:8080/"
        },
        "id": "gGA13AUCOeHI",
        "outputId": "056f7ddf-4faa-4045-c067-88d598e1c1ad"
      },
      "execution_count": null,
      "outputs": [
        {
          "output_type": "stream",
          "name": "stdout",
          "text": [
            "Display multiplication table of 10\n",
            "10 x 1 = 10\n",
            "10 x 2 = 20\n",
            "10 x 3 = 30\n",
            "10 x 4 = 40\n",
            "10 x 5 = 50\n",
            "10 x 6 = 60\n",
            "10 x 7 = 70\n",
            "10 x 8 = 80\n",
            "10 x 9 = 90\n",
            "10 x 10 = 100\n"
          ]
        }
      ]
    },
    {
      "cell_type": "code",
      "source": [
        "#3.) Python program to generate Fibonacci series until 'n' value\n",
        "n = int(input(\"Enter the value of 'n': \"))\n",
        "a = 0\n",
        "b = 1\n",
        "sum = 0\n",
        "count = 1\n",
        "print(\"Fibonacci Series: \", end = \" \")\n",
        "while(count <= n):\n",
        "  print(sum, end = \" \")\n",
        "  count += 1\n",
        "  a = b\n",
        "  b = sum\n",
        "  sum = a + b"
      ],
      "metadata": {
        "id": "Hv2p77iBN484",
        "colab": {
          "base_uri": "https://localhost:8080/"
        },
        "outputId": "69342db6-2109-421b-a129-385af2e2a437"
      },
      "execution_count": null,
      "outputs": [
        {
          "output_type": "stream",
          "name": "stdout",
          "text": [
            "Enter the value of 'n': 20\n",
            "Fibonacci Series:  0 1 1 2 3 5 8 13 21 34 55 89 144 233 377 610 987 1597 2584 4181 "
          ]
        }
      ]
    },
    {
      "cell_type": "code",
      "source": [
        "# 4.) Python program to check if the number is an Armstrong number or not\n",
        "\n",
        "num = int(input(\"Enter a number: \"))\n",
        "sum = 0\n",
        "temp = num\n",
        "while temp > 0:\n",
        "   digit = temp % 10\n",
        "   sum += digit ** 3\n",
        "   temp //= 10\n",
        "if num == sum:\n",
        "   print(num,\"is an Armstrong number\")\n",
        "else:\n",
        "   print(num,\"is not an Armstrong number\")"
      ],
      "metadata": {
        "id": "X2uRhy_qITyD",
        "colab": {
          "base_uri": "https://localhost:8080/"
        },
        "outputId": "c3ef5aab-d5fa-4588-e48b-3f18fbc4ac58"
      },
      "execution_count": null,
      "outputs": [
        {
          "output_type": "stream",
          "name": "stdout",
          "text": [
            "Enter a number: 407\n",
            "407 is an Armstrong number\n"
          ]
        }
      ]
    },
    {
      "cell_type": "code",
      "source": [
        "#5.)  Program to check Armstrong numbers in a certain interval\n",
        "\n",
        "lower = int(input(\"enter lower limit: \"))\n",
        "upper = int(input(\"enter upper limit: \"))\n",
        "\n",
        "for num in range(lower, upper + 1):\n",
        "\n",
        "   # order of number\n",
        "   order = len(str(num))\n",
        "    \n",
        "       # initialize sum\n",
        "   sum = 0\n",
        "\n",
        "   temp = num\n",
        "   while temp > 0:\n",
        "       digit = temp % 10\n",
        "       sum += digit ** order\n",
        "       temp //= 10\n",
        "\n",
        "   if num == sum:\n",
        "       print(num)"
      ],
      "metadata": {
        "id": "hsrXgO6fy5lO",
        "colab": {
          "base_uri": "https://localhost:8080/"
        },
        "outputId": "f0d2c78a-8014-4aad-a576-1f686f3e4bfe"
      },
      "execution_count": 3,
      "outputs": [
        {
          "output_type": "stream",
          "name": "stdout",
          "text": [
            "enter lower limit: 100\n",
            "enter upper limit: 300\n",
            "153\n"
          ]
        }
      ]
    },
    {
      "cell_type": "code",
      "source": [
        "# 6.) Sum of natural numbers up to num\n",
        "\n",
        "num = int(input(\"enter numbers to get sup uto: \"))\n",
        "\n",
        "if num < 0:\n",
        "   print(\"Enter a positive number\")\n",
        "else:\n",
        "   sum = 0\n",
        "   # use while loop to iterate until zero\n",
        "   while(num > 0):\n",
        "       sum += num\n",
        "       num -= 1\n",
        "   print(\"The sum is\", sum)"
      ],
      "metadata": {
        "id": "QZEJfsYmy5oB",
        "colab": {
          "base_uri": "https://localhost:8080/"
        },
        "outputId": "2e99e454-29ba-4e64-d8fe-6a77b2c66e9b"
      },
      "execution_count": 4,
      "outputs": [
        {
          "output_type": "stream",
          "name": "stdout",
          "text": [
            "enter numbers to get sup uto: 10\n",
            "The sum is 55\n"
          ]
        }
      ]
    },
    {
      "cell_type": "code",
      "source": [
        ""
      ],
      "metadata": {
        "id": "o_PwiW7ny5tl"
      },
      "execution_count": null,
      "outputs": []
    },
    {
      "cell_type": "code",
      "source": [
        ""
      ],
      "metadata": {
        "id": "TkilTBqvy5wN"
      },
      "execution_count": null,
      "outputs": []
    }
  ]
}