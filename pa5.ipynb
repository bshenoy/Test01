{
  "nbformat": 4,
  "nbformat_minor": 0,
  "metadata": {
    "colab": {
      "name": "pa5.ipynb",
      "provenance": [],
      "collapsed_sections": []
    },
    "kernelspec": {
      "name": "python3",
      "display_name": "Python 3"
    },
    "language_info": {
      "name": "python"
    }
  },
  "cells": [
    {
      "cell_type": "code",
      "execution_count": null,
      "metadata": {
        "id": "SUCetDce0DmH"
      },
      "outputs": [],
      "source": [
        "# 1.) When a class uses property from more than one base class it is called multiple Inheritance."
      ]
    },
    {
      "cell_type": "code",
      "source": [
        "# 2.) Delegation is an alternative to inheritance for reusing code among multiple classes"
      ],
      "metadata": {
        "id": "RY_YKFFv0YYA"
      },
      "execution_count": null,
      "outputs": []
    },
    {
      "cell_type": "code",
      "source": [
        "# 3.)  Composition basically enables us for creating complex types objects by combining other types of objects in the program. "
      ],
      "metadata": {
        "id": "W0lgUDvs0YbX"
      },
      "execution_count": null,
      "outputs": []
    },
    {
      "cell_type": "code",
      "source": [
        "# 4.) A bound method is the one which is dependent on the instance of the class as the first argument. which are used to acess variable and function via instances."
      ],
      "metadata": {
        "id": "eeuQkakA0Yd1"
      },
      "execution_count": null,
      "outputs": []
    },
    {
      "cell_type": "code",
      "source": [
        "# 5.)  To reduce the chance of internal methods being replaced by names defined lower in the tree."
      ],
      "metadata": {
        "id": "HK4cZ6gn0Ykl"
      },
      "execution_count": null,
      "outputs": []
    },
    {
      "cell_type": "code",
      "source": [
        ""
      ],
      "metadata": {
        "id": "wJ6fC3sF7u2R"
      },
      "execution_count": null,
      "outputs": []
    }
  ]
}