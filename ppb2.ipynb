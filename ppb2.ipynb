{
  "nbformat": 4,
  "nbformat_minor": 0,
  "metadata": {
    "colab": {
      "name": "ppb2",
      "provenance": []
    },
    "kernelspec": {
      "name": "python3",
      "display_name": "Python 3"
    },
    "language_info": {
      "name": "python"
    }
  },
  "cells": [
    {
      "cell_type": "code",
      "execution_count": null,
      "metadata": {
        "colab": {
          "base_uri": "https://localhost:8080/"
        },
        "id": "GqWfAXpVHRV4",
        "outputId": "409bc39c-3f28-4c64-945e-151ad0bb2e4e"
      },
      "outputs": [
        {
          "output_type": "stream",
          "name": "stdout",
          "text": [
            "enter length in kilometr to convert to miles\n",
            "12\n",
            "the length in miles is 7.456454306848007 miles\n"
          ]
        }
      ],
      "source": [
        "# 1.) program to conver km to miles\n",
        "a = int(input(print(\"enter length in kilometr to convert to miles\" )))\n",
        "b=a/1.609344\n",
        "print(\"the length in miles is\", b, \"miles\")"
      ]
    },
    {
      "cell_type": "code",
      "source": [
        "# 2.) program to convert celcius to Fahrenheit\n",
        "a = int(input(print(\"enter temperature in celcius to convert Fahrenheit\" )))\n",
        "f = (a*1.8)+32\n",
        "print(\"temperature in faranite:\", f)"
      ],
      "metadata": {
        "colab": {
          "base_uri": "https://localhost:8080/"
        },
        "id": "4Ux3PR7rHo90",
        "outputId": "2211e541-9086-4641-c0bb-88bdcf34ef32"
      },
      "execution_count": null,
      "outputs": [
        {
          "output_type": "stream",
          "name": "stdout",
          "text": [
            "enter temperature in celcius to convert Fahrenheit\n",
            "12\n",
            "temperature in faranite: 53.6\n"
          ]
        }
      ]
    },
    {
      "cell_type": "code",
      "source": [
        "#3.) Program to display the calender\n",
        "import calendar\n",
        "yy=int(input(\"enter year: \"))\n",
        "mm=int(input(\"enter month\"))\n",
        "print(calendar.month(yy,mm))\n",
        "\n",
        "\n",
        "\n"
      ],
      "metadata": {
        "id": "M1vkz98vI0ps",
        "colab": {
          "base_uri": "https://localhost:8080/"
        },
        "outputId": "5510a0df-6505-4778-d075-28783117786a"
      },
      "execution_count": null,
      "outputs": [
        {
          "output_type": "stream",
          "name": "stdout",
          "text": [
            "enter year: 1997\n",
            "enter month12\n",
            "   December 1997\n",
            "Mo Tu We Th Fr Sa Su\n",
            " 1  2  3  4  5  6  7\n",
            " 8  9 10 11 12 13 14\n",
            "15 16 17 18 19 20 21\n",
            "22 23 24 25 26 27 28\n",
            "29 30 31\n",
            "\n"
          ]
        }
      ]
    },
    {
      "cell_type": "code",
      "source": [
        "#4.) program to solve quadratic equation\n",
        "import cmath\n",
        "\n",
        "a= int(input(\"enter value for a :\"))\n",
        "b= int(input(\"enter value for b: \"))\n",
        "c= int(input(\"enter value for c: \"))\n",
        "\n",
        "d = ((b**2)-(4*a*c))\n",
        "\n",
        "e = ((-b) +cmath.sqrt(d))/(2*a)\n",
        "f = ((b-cmath.sqrt(d))/(2*a))\n",
        "\n",
        "print(\"solution of given eqn are:\", e, \"and\", f)\n"
      ],
      "metadata": {
        "id": "Ajwrg9zBclGO",
        "colab": {
          "base_uri": "https://localhost:8080/"
        },
        "outputId": "26572c22-cd7e-4189-dc3b-bebf58155ca5"
      },
      "execution_count": 24,
      "outputs": [
        {
          "output_type": "stream",
          "name": "stdout",
          "text": [
            "enter value for a :1\n",
            "enter value for b: 1\n",
            "enter value for c: 1\n",
            "solution of given eqn are: (-0.5+0.8660254037844386j) and (0.5-0.8660254037844386j)\n"
          ]
        }
      ]
    },
    {
      "cell_type": "code",
      "source": [
        "# 5) program to swap two numbers\n",
        "x = int(input(\"enter a first number to be swapped\"))\n",
        "y = int(input(\"enter a second number\"))\n",
        "\n",
        "x, y = y, x\n",
        "print(\"values after swapping\")\n",
        "print(\"x =\", x)\n",
        "print(\"y =\", y)"
      ],
      "metadata": {
        "colab": {
          "base_uri": "https://localhost:8080/"
        },
        "id": "fPHUpzXC4-3p",
        "outputId": "cb688d1f-e01e-41a7-b33c-8aa874f0c42e"
      },
      "execution_count": 26,
      "outputs": [
        {
          "output_type": "stream",
          "name": "stdout",
          "text": [
            "enter a first number to be swapped12\n",
            "enter a second number8528\n",
            "values after swapping\n",
            "x = 8528\n",
            "y = 12\n"
          ]
        }
      ]
    },
    {
      "cell_type": "code",
      "source": [
        ""
      ],
      "metadata": {
        "id": "BljHXWDF97pG"
      },
      "execution_count": null,
      "outputs": []
    }
  ]
}