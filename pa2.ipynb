{
  "nbformat": 4,
  "nbformat_minor": 0,
  "metadata": {
    "colab": {
      "name": "pa2.ipynb",
      "provenance": [],
      "collapsed_sections": [],
      "toc_visible": true
    },
    "kernelspec": {
      "name": "python3",
      "display_name": "Python 3"
    },
    "language_info": {
      "name": "python"
    }
  },
  "cells": [
    {
      "cell_type": "code",
      "execution_count": null,
      "metadata": {
        "id": "_6Awy9Wks-Nt"
      },
      "outputs": [],
      "source": [
        "# 1.)Modules are collections of methods. They cannot generate instances. \n",
        "# Classes may generate instances (objects), and have instance variables."
      ]
    },
    {
      "cell_type": "code",
      "source": [
        "# 2.) To create instances of a class, class is been called using class name and pass in whatever arguments its __init__ method accepts\n",
        "#  class is created using the keyword class"
      ],
      "metadata": {
        "id": "cwqkrp9rtCuy"
      },
      "execution_count": null,
      "outputs": []
    },
    {
      "cell_type": "code",
      "source": [
        "# 3.) Class attributes belong to the class itself they will be shared by all the instances. Such attributes are defined in the class body parts usually at the begining."
      ],
      "metadata": {
        "id": "wJI0Fl-PtC7h"
      },
      "execution_count": null,
      "outputs": []
    },
    {
      "cell_type": "code",
      "source": [
        "# 4.) instance attributes are not shared by objects as in case of class. Every object has its own copy of the instance attribute (In case of class attributes all object refer to single copy)"
      ],
      "metadata": {
        "id": "fuxYySDbtC-C"
      },
      "execution_count": null,
      "outputs": []
    },
    {
      "cell_type": "code",
      "source": [
        "# 5.)Self represents the instance of the class.  It connects the attributes with the given arguments. By using the self keyword we can access the attributes and methods of the class in python."
      ],
      "metadata": {
        "id": "EljZDNhWtDAJ"
      },
      "execution_count": null,
      "outputs": []
    },
    {
      "cell_type": "code",
      "source": [
        "# 6.) operator + is used to overload by int class and str class. such that same built-in operator or function shows different behavior for objects of different classes."
      ],
      "metadata": {
        "id": "8vJ3QIhytDCc"
      },
      "execution_count": null,
      "outputs": []
    },
    {
      "cell_type": "code",
      "source": [
        "# 7.) Every class in Python define its own behavior for built in functions and methods. When we pass an instance of some class to a built-in function overloading takes place based on the requirement\n"
      ],
      "metadata": {
        "id": "sPmp7Grw5AiW"
      },
      "execution_count": null,
      "outputs": []
    },
    {
      "cell_type": "code",
      "source": [
        "# 8.)  Example is the Addition (+) operator. It performs Addition on numbers and it performs Concatenation on strings.\n"
      ],
      "metadata": {
        "id": "ktVtk41ntDFE"
      },
      "execution_count": 1,
      "outputs": []
    },
    {
      "cell_type": "code",
      "source": [
        "# 9.) class and objects are the  most important concept in OOPs concept."
      ],
      "metadata": {
        "id": "Ig-dJ7Jz5x1k"
      },
      "execution_count": null,
      "outputs": []
    }
  ]
}