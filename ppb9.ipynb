{
  "nbformat": 4,
  "nbformat_minor": 0,
  "metadata": {
    "colab": {
      "name": "ppb9.ipynb",
      "provenance": [],
      "collapsed_sections": []
    },
    "kernelspec": {
      "name": "python3",
      "display_name": "Python 3"
    },
    "language_info": {
      "name": "python"
    }
  },
  "cells": [
    {
      "cell_type": "code",
      "execution_count": null,
      "metadata": {
        "id": "bjNvTHJp8NmH",
        "colab": {
          "base_uri": "https://localhost:8080/"
        },
        "outputId": "b076fa67-6025-4ba7-faeb-57c864d9d660"
      },
      "outputs": [
        {
          "output_type": "stream",
          "name": "stdout",
          "text": [
            "175 is a disarium number\n"
          ]
        }
      ],
      "source": [
        "# 1. Python program to check if the given number is a Disarium Number\n",
        "def calculateLength(n):    \n",
        "    length = 0;    \n",
        "    while(n != 0):    \n",
        "        length = length + 1;    \n",
        "        n = n//10;    \n",
        "    return length;    \n",
        "     \n",
        "num = 175;    \n",
        "rem = sum = 0;    \n",
        "len = calculateLength(num);    \n",
        "     \n",
        "#Makes a copy of the original number num    \n",
        "n = num;    \n",
        "     \n",
        "#Calculates the sum of digits powered with their respective position    \n",
        "while(num > 0):    \n",
        "    rem = num%10;    \n",
        "    sum = sum + int(rem**len);    \n",
        "    num = num//10;    \n",
        "    len = len - 1;    \n",
        "     \n",
        "#Checks whether the sum is equal to the number itself    \n",
        "if(sum == n):    \n",
        "    print(str(n) + \" is a disarium number\");    \n",
        "else:    \n",
        "    print(str(n) + \" is not a disarium number\");  \n",
        "\n",
        "\n",
        "\n",
        "\n",
        "\n",
        "\n",
        "\n"
      ]
    },
    {
      "cell_type": "code",
      "source": [
        "# 2. Python program to print all disarium numbers between 1 to 100\n",
        "def calculateLength(n):    \n",
        "    length = 0;    \n",
        "    while(n != 0):    \n",
        "        length = length + 1;    \n",
        "        n = n//10;    \n",
        "    return length;    \n",
        "     \n",
        "#sumOfDigits() will calculates the sum of digits powered with their respective position    \n",
        "def sumOfDigits(num):    \n",
        "    rem = sum = 0;    \n",
        "    len = calculateLength(num);    \n",
        "        \n",
        "    while(num > 0):    \n",
        "        rem = num%10;    \n",
        "        sum = sum + (rem**len);    \n",
        "        num = num//10;    \n",
        "        len = len - 1;    \n",
        "    return sum;    \n",
        "      \n",
        "result = 0;    \n",
        "     \n",
        "#Displays all disarium numbers between 1 and 100    \n",
        "print(\"Disarium numbers between 1 and 100 are\");    \n",
        "for i in range(1, 101):    \n",
        "    result = sumOfDigits(i);    \n",
        "        \n",
        "    if(result == i):    \n",
        "        print(i),    \n",
        "\n",
        "\n",
        "\n",
        "\n",
        "\n",
        "\n"
      ],
      "metadata": {
        "id": "_WzcH5Sn8Wm8",
        "colab": {
          "base_uri": "https://localhost:8080/"
        },
        "outputId": "a956c24d-69d2-4b80-e418-2d1a2115ccc2"
      },
      "execution_count": null,
      "outputs": [
        {
          "output_type": "stream",
          "name": "stdout",
          "text": [
            "Disarium numbers between 1 and 100 are\n",
            "1\n",
            "2\n",
            "3\n",
            "4\n",
            "5\n",
            "6\n",
            "7\n",
            "8\n",
            "9\n",
            "89\n"
          ]
        }
      ]
    },
    {
      "cell_type": "code",
      "source": [
        "#3. Python program to check if the given number is Happy Number\n",
        "\n",
        "def is_Happy_num(n):\n",
        "  past = set()\n",
        "  while n != 1:\n",
        "        n = sum(int(i)**2 for i in str(n))\n",
        "        if n in past:\n",
        "            return False\n",
        "        past.add(n)\n",
        "  return True\n",
        "print(is_Happy_num(7))\n",
        "print(is_Happy_num(932))\n",
        "print(is_Happy_num(6))\n",
        "\n",
        "\n",
        "\n",
        "\n",
        "\n"
      ],
      "metadata": {
        "id": "Ztu3NOyy8YdS",
        "colab": {
          "base_uri": "https://localhost:8080/"
        },
        "outputId": "4891cc33-02e8-45ae-a898-05d185087103"
      },
      "execution_count": 1,
      "outputs": [
        {
          "output_type": "stream",
          "name": "stdout",
          "text": [
            "True\n",
            "True\n",
            "False\n"
          ]
        }
      ]
    },
    {
      "cell_type": "code",
      "source": [
        "# 4. Python program to print all happy numbers between 1 and 100\n",
        "def isHappyNumber(num):    \n",
        "    rem = sum = 0;    \n",
        "        \n",
        "    #Calculates the sum of squares of digits    \n",
        "    while(num > 0):    \n",
        "        rem = num%10;    \n",
        "        sum = sum + (rem*rem);    \n",
        "        num = num//10;    \n",
        "    return sum;    \n",
        "            \n",
        "#Displays all happy numbers between 1 and 100    \n",
        "print(\"List of happy numbers between 1 and 100: \");    \n",
        "for i in range(1, 101):    \n",
        "    result = i;    \n",
        "        \n",
        "    #Happy number always ends with 1 and     \n",
        "    #unhappy number ends in a cycle of repeating numbers which contains 4    \n",
        "    while(result != 1 and result != 4):    \n",
        "        result = isHappyNumber(result);    \n",
        "        \n",
        "    if(result == 1):    \n",
        "        print(i),    \n",
        "        print(\" \"),    \n",
        "        \n",
        "\n",
        "\n",
        "\n",
        "\n",
        "\n",
        "\n"
      ],
      "metadata": {
        "id": "Zn69J90X8Ymi",
        "colab": {
          "base_uri": "https://localhost:8080/"
        },
        "outputId": "fdc193ee-5f38-4ea8-a10d-76ec2fb3fb55"
      },
      "execution_count": 2,
      "outputs": [
        {
          "output_type": "stream",
          "name": "stdout",
          "text": [
            "List of happy numbers between 1 and 100: \n",
            "1\n",
            " \n",
            "7\n",
            " \n",
            "10\n",
            " \n",
            "13\n",
            " \n",
            "19\n",
            " \n",
            "23\n",
            " \n",
            "28\n",
            " \n",
            "31\n",
            " \n",
            "32\n",
            " \n",
            "44\n",
            " \n",
            "49\n",
            " \n",
            "68\n",
            " \n",
            "70\n",
            " \n",
            "79\n",
            " \n",
            "82\n",
            " \n",
            "86\n",
            " \n",
            "91\n",
            " \n",
            "94\n",
            " \n",
            "97\n",
            " \n",
            "100\n",
            " \n"
          ]
        }
      ]
    },
    {
      "cell_type": "code",
      "source": [
        "# 5.Python program to determine whether the given number is a Harshad Number\n",
        "\n",
        "num = 156;    \n",
        "rem = sum = 0;    \n",
        "     \n",
        "#Make a copy of num and store it in variable n    \n",
        "n = num;    \n",
        "     \n",
        "#Calculates sum of digits    \n",
        "while(num > 0):    \n",
        "    rem = num%10;    \n",
        "    sum = sum + rem;    \n",
        "    num = num//10;    \n",
        "     \n",
        "#Checks whether the number is divisible by the sum of digits    \n",
        "if(n%sum == 0):    \n",
        "    print(str(n) + \" is a harshad number\");    \n",
        "else:    \n",
        "    print(str(n) + \" is not a harshad number\");    \n",
        "\n",
        "\n",
        "\n",
        "\n",
        "\n",
        "\n",
        "\n",
        "\n",
        "\n",
        "\n"
      ],
      "metadata": {
        "id": "ckqIPYT68YpS",
        "colab": {
          "base_uri": "https://localhost:8080/"
        },
        "outputId": "d7780892-35ef-4c20-e5bf-36431fc39148"
      },
      "execution_count": 3,
      "outputs": [
        {
          "output_type": "stream",
          "name": "stdout",
          "text": [
            "156 is a harshad number\n"
          ]
        }
      ]
    },
    {
      "cell_type": "code",
      "source": [
        "# 6. Python program to print all pronic numbers between 1 and 100\n",
        "\n",
        "def isPronicNumber(num):    \n",
        "    flag = False;    \n",
        "        \n",
        "    for j in range(1, num+1):    \n",
        "        #Checks for pronic number by multiplying consecutive numbers    \n",
        "        if((j*(j+1)) == num):    \n",
        "            flag = True;    \n",
        "            break;    \n",
        "    return flag;    \n",
        "     \n",
        "#Displays pronic numbers between 1 and 100    \n",
        "print(\"Pronic numbers between 1 and 100: \");    \n",
        "for i in range(1, 101):    \n",
        "    if(isPronicNumber(i)):    \n",
        "        print(i),    \n",
        "        print(\" \"),    \n",
        "\n",
        "\n",
        "\n",
        "\n",
        "\n",
        "\n",
        "\n",
        "\n",
        "\n",
        "\n",
        "\n",
        "\n",
        "\n",
        "\n",
        "\n",
        "\n"
      ],
      "metadata": {
        "id": "MBgByu6Z8Yta",
        "colab": {
          "base_uri": "https://localhost:8080/"
        },
        "outputId": "ff8d8c7c-053b-4a5f-a4bc-f8d0e969a82a"
      },
      "execution_count": 4,
      "outputs": [
        {
          "output_type": "stream",
          "name": "stdout",
          "text": [
            "Pronic numbers between 1 and 100: \n",
            "2\n",
            " \n",
            "6\n",
            " \n",
            "12\n",
            " \n",
            "20\n",
            " \n",
            "30\n",
            " \n",
            "42\n",
            " \n",
            "56\n",
            " \n",
            "72\n",
            " \n",
            "90\n",
            " \n"
          ]
        }
      ]
    },
    {
      "cell_type": "code",
      "source": [
        ""
      ],
      "metadata": {
        "id": "qVSl0H4Mh3-N"
      },
      "execution_count": null,
      "outputs": []
    }
  ]
}