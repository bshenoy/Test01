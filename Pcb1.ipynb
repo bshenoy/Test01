{
  "nbformat": 4,
  "nbformat_minor": 0,
  "metadata": {
    "colab": {
      "name": "Pcb1.ipynb",
      "provenance": [],
      "collapsed_sections": []
    },
    "kernelspec": {
      "name": "python3",
      "display_name": "Python 3"
    },
    "language_info": {
      "name": "python"
    }
  },
  "cells": [
    {
      "cell_type": "code",
      "execution_count": 1,
      "metadata": {
        "colab": {
          "base_uri": "https://localhost:8080/"
        },
        "id": "SCLH4BNq6pV2",
        "outputId": "6e2cd148-0904-4cab-b2f5-8d7ef81e1d16"
      },
      "outputs": [
        {
          "output_type": "stream",
          "name": "stdout",
          "text": [
            "Hello Python\n"
          ]
        }
      ],
      "source": [
        "# 1.) program to print hello \n",
        "print(\"Hello Python\")"
      ]
    },
    {
      "cell_type": "code",
      "source": [
        "# 2.) # Program to generate division and addition of two numbers\n",
        "a =int(input(print(\"pls enter a\")))\n",
        "b = int(input(print(\"pls enter b\")))\n",
        "c = a+b\n",
        "d = a/b\n",
        "print(\"the results of addition is\",c, \"result of division is\", d )"
      ],
      "metadata": {
        "colab": {
          "base_uri": "https://localhost:8080/"
        },
        "id": "GAQLBnvX63BV",
        "outputId": "9710d8a0-1c74-4919-c55e-e2182464fcaa"
      },
      "execution_count": 22,
      "outputs": [
        {
          "output_type": "stream",
          "name": "stdout",
          "text": [
            "pls enter a\n",
            "15\n",
            "pls enter b\n",
            "145\n",
            "the results of addition is 160 result of division is 0.10344827586206896\n"
          ]
        }
      ]
    },
    {
      "cell_type": "code",
      "source": [
        "#3.) Program to generate area of vtriangle\n",
        "a =int(input(print(\"pls enter base of triagle: in metres measurement\")))\n",
        "b = int(input(print(\"pls enter height of triangle in metre measyurement:\")))\n",
        "area= (1/2*a*b)\n",
        "print(\"Area of given triangle is:\", area,\"sq.m\")"
      ],
      "metadata": {
        "colab": {
          "base_uri": "https://localhost:8080/"
        },
        "id": "9ciADbav65w9",
        "outputId": "08176daf-e56b-4d58-8f7c-36e3dd872a8d"
      },
      "execution_count": 14,
      "outputs": [
        {
          "output_type": "stream",
          "name": "stdout",
          "text": [
            "pls enter base of triagle: in metres measurement\n",
            "5\n",
            "pls enter height of triangle in metre measyurement:\n",
            "5\n",
            "Area of given triangle is: 12.5 sq.m\n"
          ]
        }
      ]
    },
    {
      "cell_type": "code",
      "source": [
        "# 4.)Program to swap numbers\n",
        "a=int(input(print(\"please enter first number to be swaped\")))\n",
        "b=int(input(print(\"please enter second number to be swaped\")))\n",
        "c=a\n",
        "a=b\n",
        "b=c\n",
        "print(\"after swapping first number is\", a,\"second number is\", b)"
      ],
      "metadata": {
        "colab": {
          "base_uri": "https://localhost:8080/"
        },
        "id": "OXSMJcb2_H71",
        "outputId": "693757fd-6097-4db8-d254-11e3b6bb4124"
      },
      "execution_count": 19,
      "outputs": [
        {
          "output_type": "stream",
          "name": "stdout",
          "text": [
            "please enter first number to be swaped\n",
            "12\n",
            "please enter second number to be swaped\n",
            "555\n",
            "after swapping first number is 555 second number is 12\n"
          ]
        }
      ]
    },
    {
      "cell_type": "code",
      "source": [
        "#5.) Program to generate a random number between 0 and 9\n",
        "\n",
        "# importing the random module\n",
        "import random\n",
        "\n",
        "print(random.randint(0,9))"
      ],
      "metadata": {
        "colab": {
          "base_uri": "https://localhost:8080/"
        },
        "id": "2bFO9_RGDU07",
        "outputId": "b047b8a7-8388-42cc-b38b-e38560e2d775"
      },
      "execution_count": 21,
      "outputs": [
        {
          "output_type": "stream",
          "name": "stdout",
          "text": [
            "6\n"
          ]
        }
      ]
    },
    {
      "cell_type": "code",
      "source": [
        ""
      ],
      "metadata": {
        "id": "ks2JTECd_IA7"
      },
      "execution_count": null,
      "outputs": []
    },
    {
      "cell_type": "code",
      "source": [
        ""
      ],
      "metadata": {
        "id": "ICxQC6jy_IDZ"
      },
      "execution_count": null,
      "outputs": []
    },
    {
      "cell_type": "code",
      "source": [
        ""
      ],
      "metadata": {
        "id": "P9SRdQph_IF-"
      },
      "execution_count": null,
      "outputs": []
    },
    {
      "cell_type": "code",
      "source": [
        ""
      ],
      "metadata": {
        "id": "cZmv4elO_IIW"
      },
      "execution_count": null,
      "outputs": []
    },
    {
      "cell_type": "code",
      "source": [
        ""
      ],
      "metadata": {
        "id": "zGf0w6DK_IKz"
      },
      "execution_count": null,
      "outputs": []
    },
    {
      "cell_type": "code",
      "source": [
        ""
      ],
      "metadata": {
        "id": "FIe0RqzA_Ir8"
      },
      "execution_count": null,
      "outputs": []
    },
    {
      "cell_type": "code",
      "source": [
        ""
      ],
      "metadata": {
        "id": "KK2-_IEf_IvT"
      },
      "execution_count": null,
      "outputs": []
    },
    {
      "cell_type": "code",
      "source": [
        ""
      ],
      "metadata": {
        "id": "rQk_XDwd_Ix0"
      },
      "execution_count": null,
      "outputs": []
    },
    {
      "cell_type": "code",
      "source": [
        ""
      ],
      "metadata": {
        "id": "WP2soo84_I0o"
      },
      "execution_count": null,
      "outputs": []
    },
    {
      "cell_type": "code",
      "source": [
        ""
      ],
      "metadata": {
        "id": "2oV7XyKf_I3T"
      },
      "execution_count": null,
      "outputs": []
    },
    {
      "cell_type": "code",
      "source": [
        ""
      ],
      "metadata": {
        "id": "KZ5ifJmL_I6X"
      },
      "execution_count": null,
      "outputs": []
    },
    {
      "cell_type": "code",
      "source": [
        ""
      ],
      "metadata": {
        "id": "rTdnBniF_I9C"
      },
      "execution_count": null,
      "outputs": []
    }
  ]
}