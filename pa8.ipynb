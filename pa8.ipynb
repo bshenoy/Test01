{
  "nbformat": 4,
  "nbformat_minor": 0,
  "metadata": {
    "colab": {
      "name": "pa8.ipynb",
      "provenance": [],
      "collapsed_sections": []
    },
    "kernelspec": {
      "name": "python3",
      "display_name": "Python 3"
    },
    "language_info": {
      "name": "python"
    }
  },
  "cells": [
    {
      "cell_type": "code",
      "execution_count": null,
      "metadata": {
        "id": "pNSZ1wy0STvZ"
      },
      "outputs": [],
      "source": [
        "# 1.) IndexError, ImportError, IOError, ZeroDivisionError, TypeError, and FileNotFoundError are some of user defined error. A user can create his own error using the exception class."
      ]
    },
    {
      "cell_type": "code",
      "source": [
        "# 2) The exceptions are defined by exception classes, from which an exception object can be created when an exception is raised"
      ],
      "metadata": {
        "id": "nqXPxsXAermz"
      },
      "execution_count": null,
      "outputs": []
    },
    {
      "cell_type": "code",
      "source": [
        "# 3.)can be done by the implicit exception context can be supplemented with an explicit cause by using from with raise"
      ],
      "metadata": {
        "id": "bLXOOcCQerpS"
      },
      "execution_count": null,
      "outputs": []
    },
    {
      "cell_type": "code",
      "source": [
        "# 4.)Immediately after the try block, make an except block with except Exception as e to handle any exceptions that occur where e is the exception object, which can be printed."
      ],
      "metadata": {
        "id": "Aenqy3FVerud"
      },
      "execution_count": null,
      "outputs": []
    },
    {
      "cell_type": "code",
      "source": [
        "# 5.) In Python, exceptions can be handled using a try statement. The critical operation which can raise an exception is placed inside the try clause.\n",
        "#  The code that handles the exceptions is written in the except clause. We can thus choose what operations to perform once we have caught the exception"
      ],
      "metadata": {
        "id": "y-EZ2i49erxV"
      },
      "execution_count": null,
      "outputs": []
    }
  ]
}