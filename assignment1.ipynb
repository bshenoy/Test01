{
  "nbformat": 4,
  "nbformat_minor": 0,
  "metadata": {
    "colab": {
      "name": "assignment1.ipynb",
      "provenance": [],
      "collapsed_sections": []
    },
    "kernelspec": {
      "name": "python3",
      "display_name": "Python 3"
    },
    "language_info": {
      "name": "python"
    }
  },
  "cells": [
    {
      "cell_type": "code",
      "execution_count": null,
      "metadata": {
        "colab": {
          "base_uri": "https://localhost:8080/",
          "height": 130
        },
        "id": "B-uUqITjnvN7",
        "outputId": "5bc761ac-5496-4558-a639-419e547491d5"
      },
      "outputs": [
        {
          "output_type": "error",
          "ename": "SyntaxError",
          "evalue": "ignored",
          "traceback": [
            "\u001b[0;36m  File \u001b[0;32m\"<ipython-input-3-dce1f09ea222>\"\u001b[0;36m, line \u001b[0;32m1\u001b[0m\n\u001b[0;31m    1) * = mathamatical expression,\u001b[0m\n\u001b[0m     ^\u001b[0m\n\u001b[0;31mSyntaxError\u001b[0m\u001b[0;31m:\u001b[0m invalid syntax\n"
          ]
        }
      ],
      "source": [
        "# 1) * = mathamatical expression, \n",
        "#   hello = string,\n",
        "#   -87.8 = integers , \n",
        "#   - = mathamatical operator, \n",
        "#   / = mathamatical operator,\n",
        "#   + = mathamatical operator,\n",
        "#   6 = integers"
      ]
    },
    {
      "cell_type": "code",
      "source": [
        "# 2) variable = used to store the information\n",
        "# string = is the value inside the quotes that can be used to store value of value"
      ],
      "metadata": {
        "id": "AHL3YQaVtLjb"
      },
      "execution_count": null,
      "outputs": []
    },
    {
      "cell_type": "code",
      "source": [
        "# 3) Types of variable \n",
        "# int, float, complex numbers"
      ],
      "metadata": {
        "id": "DeA7qK9fvb6k"
      },
      "execution_count": null,
      "outputs": []
    },
    {
      "cell_type": "code",
      "source": [
        "# 4) Expression is combination of values and is used to create new result. expression perform some opertaion on given function and output final result\n"
      ],
      "metadata": {
        "id": "_pBzf0Kavphw"
      },
      "execution_count": null,
      "outputs": []
    },
    {
      "cell_type": "code",
      "source": [
        "# 5) Difference between expression and statemnet\n",
        "#   Statement is an action of commond \n",
        "#   expression is combination of values and variable operation which output result "
      ],
      "metadata": {
        "id": "YDlZuZnrv_3j"
      },
      "execution_count": null,
      "outputs": []
    },
    {
      "cell_type": "code",
      "source": [
        "# 6) 20"
      ],
      "metadata": {
        "id": "1QjdBQHfwcfS"
      },
      "execution_count": null,
      "outputs": []
    },
    {
      "cell_type": "code",
      "source": [
        "# 7) 'spam' + 'spamspam' = 'spamspamspam'"
      ],
      "metadata": {
        "colab": {
          "base_uri": "https://localhost:8080/",
          "height": 130
        },
        "id": "NU17DdXdwff8",
        "outputId": "c89e83b2-5ad4-401c-ba8f-41932fb28040"
      },
      "execution_count": null,
      "outputs": [
        {
          "output_type": "error",
          "ename": "SyntaxError",
          "evalue": "ignored",
          "traceback": [
            "\u001b[0;36m  File \u001b[0;32m\"<ipython-input-1-f01439030323>\"\u001b[0;36m, line \u001b[0;32m2\u001b[0m\n\u001b[0;31m    'spam' + 'spamspam' = 'spamspamspam'\u001b[0m\n\u001b[0m                                        ^\u001b[0m\n\u001b[0;31mSyntaxError\u001b[0m\u001b[0;31m:\u001b[0m can't assign to operator\n"
          ]
        }
      ]
    },
    {
      "cell_type": "code",
      "source": [
        "# 7) 'spam'*3 = 'spamspamspam'\n"
      ],
      "metadata": {
        "id": "W5nx9UhPwrtU"
      },
      "execution_count": null,
      "outputs": []
    },
    {
      "cell_type": "code",
      "source": [
        "# 8) we cannot use digit as variable, because a digit has operticular value and we cannot equate it to other variable, it will cause Error\n",
        "#    Ex: 2 = 5\n",
        "#        c = 2\n",
        "#        d = 2 * c\n",
        "#        Now value of c is either 4 or 10:\n",
        "#        which is not possible"
      ],
      "metadata": {
        "id": "tQBpAiC2w9ox"
      },
      "execution_count": null,
      "outputs": []
    },
    {
      "cell_type": "code",
      "source": [
        "# 9) int(), float(), str() function are used to get different version of datatypes"
      ],
      "metadata": {
        "id": "PGNNEcq-xu1x"
      },
      "execution_count": null,
      "outputs": []
    },
    {
      "cell_type": "code",
      "source": [
        "# 10 ) Here variable used are of two different datatypes so variables to be added it should of same datatype\n",
        "#  we can fix by, \n",
        "# 'i have eaten ' + ' 99 ' + 'burriots'\n",
        "# by converting 99 to string type\n"
      ],
      "metadata": {
        "id": "lYscKKXCxvCY"
      },
      "execution_count": null,
      "outputs": []
    }
  ]
}