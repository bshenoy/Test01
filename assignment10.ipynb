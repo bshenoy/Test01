{
  "nbformat": 4,
  "nbformat_minor": 0,
  "metadata": {
    "colab": {
      "name": "assignment10.ipynb",
      "provenance": [],
      "collapsed_sections": []
    },
    "kernelspec": {
      "name": "python3",
      "display_name": "Python 3"
    },
    "language_info": {
      "name": "python"
    }
  },
  "cells": [
    {
      "cell_type": "code",
      "execution_count": null,
      "metadata": {
        "id": "9Dyigsq1WnmA"
      },
      "outputs": [],
      "source": [
        "# 1.) While shutil.copy() will copy a single file, shutil.copytree() will copy an entire folder and every folder and file contained in it. "
      ]
    },
    {
      "cell_type": "code",
      "source": [
        "# 2.) rename() function is used to change the name of the file or directory i.e. from old_name to new_name without changing the content present in the file. \n",
        "# This function takes name of the file as its argument"
      ],
      "metadata": {
        "id": "ONcx_vw5WrUp"
      },
      "execution_count": null,
      "outputs": []
    },
    {
      "cell_type": "code",
      "source": [
        "# 3.) The send2trash functions will move a file or folder to the recycle bin, while shutil functions will permanently delete files and folders.\n",
        "# shutiil provides the ability to copy and removal of files"
      ],
      "metadata": {
        "id": "1aHF56WHWraS"
      },
      "execution_count": null,
      "outputs": []
    },
    {
      "cell_type": "code",
      "source": [
        "# 4.) Access a member of the archive as a binary file-like object. name can be either the name of a file within the archive or a ZipInfo object.\n",
        "#  The mode parameter, if included, must be 'r' (the default) or 'w'. pwd is the password used to decrypt encrypted ZIP files."
      ],
      "metadata": {
        "id": "6kqOk685WrdC"
      },
      "execution_count": null,
      "outputs": []
    },
    {
      "cell_type": "code",
      "source": [
        "# 5.) \n",
        "import os, shutil\n",
        "\n",
        "def selectiveCopy(folder, extensions, destFolder):\n",
        "\n",
        "    folder = os.path.abspath(folder)\n",
        "\n",
        "    destFolder = os.path.abspath(destFolder)\n",
        "\n",
        "    print('Looking in', folder, 'for files with extensions of', ', '.join(extensions))\n",
        "\n",
        "    for foldername, subfolders, filenames in os.walk(folder):\n",
        "\n",
        "        for filename in filenames:\n",
        "\n",
        "            name, extension = os.path.splitext(filename)\n",
        "\n",
        "            if extension in extensions:\n",
        "\n",
        "                fileAbsPath = foldername + os.path.sep + filename\n",
        "\n",
        "                print('Coping', fileAbsPath, 'to', destFolder)\n",
        "\n",
        "                shutil.copy(fileAbsPath, destFolder)\n",
        "\n",
        "extensions = ['.php', '.py']\n",
        "\n",
        "folder = 'randomFolder'\n",
        "\n",
        "destFolder = 'selectiveFolder'\n",
        "\n",
        "selectiveCopy(folder, extensions, destFolder)"
      ],
      "metadata": {
        "colab": {
          "base_uri": "https://localhost:8080/"
        },
        "id": "hCR6WA0WWrfg",
        "outputId": "c3997083-3eeb-4a6b-f5b5-c6c6ca291eb1"
      },
      "execution_count": 1,
      "outputs": [
        {
          "output_type": "stream",
          "name": "stdout",
          "text": [
            "Looking in /content/randomFolder for files with extensions of .php, .py\n"
          ]
        }
      ]
    }
  ]
}