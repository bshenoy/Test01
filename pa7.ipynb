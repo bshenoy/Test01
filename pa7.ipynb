{
  "nbformat": 4,
  "nbformat_minor": 0,
  "metadata": {
    "colab": {
      "name": "pa7.ipynb",
      "provenance": [],
      "collapsed_sections": []
    },
    "kernelspec": {
      "name": "python3",
      "display_name": "Python 3"
    },
    "language_info": {
      "name": "python"
    }
  },
  "cells": [
    {
      "cell_type": "code",
      "execution_count": null,
      "metadata": {
        "id": "fXA-8e0NMjhX"
      },
      "outputs": [],
      "source": [
        "# 1.) The try block is used to check some code for errors. if try block is executed it will give results otherwise except block is eecuted"
      ]
    },
    {
      "cell_type": "code",
      "source": [
        "# 2.) Error in Python can be of two types Syntax errors and Exceptions. Errors are the problems in a program due to which the program will stop the execution."
      ],
      "metadata": {
        "id": "AAdIR5c8NAXO"
      },
      "execution_count": null,
      "outputs": []
    },
    {
      "cell_type": "code",
      "source": [
        "# 3.) The raise keyword is used to raise an exception. we can define what kind of error to raise, and the text to print to the user."
      ],
      "metadata": {
        "id": "JsltAl7oNAad"
      },
      "execution_count": null,
      "outputs": []
    },
    {
      "cell_type": "code",
      "source": [
        "# 4.)An assert statement checks whether a condition is true. If a condition evaluates to True, a program will keep running and if it is false it will stop execution of program.\n"
      ],
      "metadata": {
        "id": "GvgN8OMpNAeE"
      },
      "execution_count": null,
      "outputs": []
    },
    {
      "cell_type": "code",
      "source": [
        "# 5.) An argument is a value that is passed to a function when it is called. with statement in Python is used in exception handling to make the code cleaner and much more readable."
      ],
      "metadata": {
        "id": "h4w1ycbuNAgs"
      },
      "execution_count": null,
      "outputs": []
    },
    {
      "cell_type": "code",
      "source": [
        ""
      ],
      "metadata": {
        "id": "WB1G2MfGNAjU"
      },
      "execution_count": null,
      "outputs": []
    }
  ]
}