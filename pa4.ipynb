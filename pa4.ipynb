{
  "nbformat": 4,
  "nbformat_minor": 0,
  "metadata": {
    "colab": {
      "name": "pa4.ipynb",
      "provenance": [],
      "collapsed_sections": []
    },
    "kernelspec": {
      "name": "python3",
      "display_name": "Python 3"
    },
    "language_info": {
      "name": "python"
    }
  },
  "cells": [
    {
      "cell_type": "code",
      "execution_count": null,
      "metadata": {
        "id": "hObnHsdR9oO1"
      },
      "outputs": [],
      "source": [
        "# 1.) \"*\" and \"+\" operator are overloading methods can be used in classes to support iteration\n",
        "#   __iter__ returns returns iterator to the  object"
      ]
    },
    {
      "cell_type": "code",
      "source": [
        "# 2.) __str__ is  operator overloading methods manage printing."
      ],
      "metadata": {
        "id": "QkFYWxs-BGRi"
      },
      "execution_count": null,
      "outputs": []
    },
    {
      "cell_type": "code",
      "source": [
        "# 3.) t. A slice object is used to specify how to slice a sequence. You can specify where to start the slicing, and where to end. \n",
        "# You can also specify the step, which allows you to e.g. slice only every other item. slice(start, end, step)"
      ],
      "metadata": {
        "id": "_LAO1US1BGWj"
      },
      "execution_count": null,
      "outputs": []
    },
    {
      "cell_type": "code",
      "source": [
        "# 4.) __add_- performs inplace addition."
      ],
      "metadata": {
        "id": "5KeeUmT8BGZb"
      },
      "execution_count": null,
      "outputs": []
    },
    {
      "cell_type": "code",
      "source": [
        "# 5.)  Operator overloading allows operators to have user defined meanings on user defined types or classes."
      ],
      "metadata": {
        "id": "QbbuTsHRBGb2"
      },
      "execution_count": null,
      "outputs": []
    }
  ]
}