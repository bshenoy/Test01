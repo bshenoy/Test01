{
  "nbformat": 4,
  "nbformat_minor": 0,
  "metadata": {
    "colab": {
      "name": "9a.ipynb",
      "provenance": [],
      "collapsed_sections": []
    },
    "kernelspec": {
      "name": "python3",
      "display_name": "Python 3"
    },
    "language_info": {
      "name": "python"
    }
  },
  "cells": [
    {
      "cell_type": "code",
      "source": [
        "# 2.)Python descriptors are created to manage the attributes of different classes which use the object as reference\n",
        "# The property() method in Python provides an interface to instance attributes"
      ],
      "metadata": {
        "id": "X0jiSXcCc1LD"
      },
      "execution_count": null,
      "outputs": []
    },
    {
      "cell_type": "code",
      "source": [
        "# 3.) These two methods are implemented as methods of a class. __getattribute__ is always called when need to find an attribute of a class. If it fails, it will raise an AttributeError.\n",
        "#in that case  __getattr__ is called right after.  \n",
        "# Therefore, the biggest difference is that __getattr__ is called for attributes that don’t actually exist on a class."
      ],
      "metadata": {
        "id": "NOwdtEtPbcVz"
      },
      "execution_count": null,
      "outputs": []
    },
    {
      "cell_type": "code",
      "source": [
        "# 1.) These two methods are implemented as methods of a class. __getattribute__ is always called when need to find an attribute of a class. If it fails, it will raise an AttributeError.\n",
        "#in that case  __getattr__ is called right after.  \n",
        "# Therefore, the biggest difference is that __getattr__ is called for attributes that don’t actually exist on a class."
      ],
      "metadata": {
        "id": "L0boWXAxd2uj"
      },
      "execution_count": null,
      "outputs": []
    }
  ]
}