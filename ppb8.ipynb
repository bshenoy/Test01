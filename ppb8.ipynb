{
  "nbformat": 4,
  "nbformat_minor": 0,
  "metadata": {
    "colab": {
      "name": "ppb8.ipynb",
      "provenance": [],
      "collapsed_sections": [],
      "toc_visible": true
    },
    "kernelspec": {
      "name": "python3",
      "display_name": "Python 3"
    },
    "language_info": {
      "name": "python"
    }
  },
  "cells": [
    {
      "cell_type": "code",
      "source": [
        "# 1. Program to add two matrices\n",
        "\n",
        "r = int(input(\"Enter the rows: \"))\n",
        "c = int(input(\"Enter the columns: \"))\n",
        "\n",
        "print(\"Enter Matrix 1:\")\n",
        "m1 = [[int(input()) for i in range(c)] for i in range(r)]\n",
        "print(\"Matrix 1 is: \")\n",
        "for n in m1:\n",
        "   print(n)\n",
        "\n",
        "print(\"Enter Matrix 2:\")\n",
        "m2 = [[int(input()) for i in range(c)] for i in range(r)]\n",
        "for n in m2:\n",
        "   print(n)\n",
        "\n",
        "r = [[0 for i in range(c)] for i in range(r)]\n",
        "for i in range(len(r)):\n",
        "   for j in range(c):\n",
        "      r[i][j] = [m1[i][j] + m2[i][j]]\n",
        "print(\"Add Matrix:\")\n",
        "for i in r:\n",
        "   print(i)"
      ],
      "metadata": {
        "colab": {
          "base_uri": "https://localhost:8080/"
        },
        "id": "BcGu-itXYcs5",
        "outputId": "8a7b3f9c-33d5-4941-bef4-967a1cd52069"
      },
      "execution_count": 6,
      "outputs": [
        {
          "output_type": "stream",
          "name": "stdout",
          "text": [
            "Enter the rows: 3\n",
            "Enter the columns: 4\n",
            "Enter Matrix 1:\n",
            "1\n",
            "2\n",
            "32\n",
            "56\n",
            "56\n",
            "8574\n",
            "42\n",
            "55\n",
            "56\n",
            "15\n",
            "25\n",
            "25\n",
            "Matrix 1 is: \n",
            "[1, 2, 32, 56]\n",
            "[56, 8574, 42, 55]\n",
            "[56, 15, 25, 25]\n",
            "Enter Matrix 2:\n",
            "55\n",
            "225\n",
            "54\n",
            "45\n",
            "74\n",
            "414\n",
            "414\n",
            "1441\n",
            "14\n",
            "44\n",
            "1\n",
            "154\n",
            "[55, 225, 54, 45]\n",
            "[74, 414, 414, 1441]\n",
            "[14, 44, 1, 154]\n",
            "Add Matrix:\n",
            "[[56], [227], [86], [101]]\n",
            "[[130], [8988], [456], [1496]]\n",
            "[[70], [59], [26], [179]]\n"
          ]
        }
      ]
    },
    {
      "cell_type": "code",
      "source": [
        "# 2.\tWrite a Python Program to Multiply Two Matrices\n",
        "\n",
        "# take first matrix inputs\n",
        "print(\"Enter the order of matrix 1:\")\n",
        "m, n = list(map(int, input().split()))\n",
        "print(\"Enter row values\")\n",
        "m1 = []\n",
        "for i in range(m):\n",
        "   print(\"Enter row\",  i, \"values:\")\n",
        "   row = list(map(int, input().split()))\n",
        "   m1.append(row)\n",
        "\n",
        "# take second matrix inputs\n",
        "print(\"Enter the order of matrix2:\")\n",
        "p, q = list(map(int, input().split()))\n",
        "print(\"Enter row values\")\n",
        "m2 = []\n",
        "for j in range(p):\n",
        "   print(\"Enter row\", j, \"value:\")\n",
        "   row = list(map(int, input().split()))\n",
        "   m2.append(row)\n",
        "\n",
        "# print both matrices\n",
        "print(\"Matrix 1:\", m1)\n",
        "print(\"Matrix 2:\", m2)\n",
        "\n",
        "# multiply matrix\n",
        "result = []\n",
        "for i in range(m):\n",
        "   row = []\n",
        "   for j in range(q):\n",
        "      row.append(0)\n",
        "   result.append(row)\n",
        "print(\"Matrix Multiplication:\")\n",
        "for i in range(m):\n",
        "   for j in range(q):\n",
        "      for k in range(n):\n",
        "         result[i][j] += m1[i][k] * m2[k][j]\n",
        "for row in result:\n",
        "   print(row)\n"
      ],
      "metadata": {
        "colab": {
          "base_uri": "https://localhost:8080/"
        },
        "id": "qst0TC3rZ_dI",
        "outputId": "062130fc-bfd0-430f-b520-ca3c11bf2ce2"
      },
      "execution_count": 12,
      "outputs": [
        {
          "output_type": "stream",
          "name": "stdout",
          "text": [
            "Enter the order of matrix 1:\n",
            "2 2\n",
            "Enter row values\n",
            "Enter row 0 values:\n",
            "1 2 \n",
            "Enter row 1 values:\n",
            "5 58\n",
            "Enter the order of matrix2:\n",
            "2 2\n",
            "Enter row values\n",
            "Enter row 0 value:\n",
            "11 55\n",
            "Enter row 1 value:\n",
            "15 85\n",
            "Matrix 1: [[1, 2], [5, 58]]\n",
            "Matrix 2: [[11, 55], [15, 85]]\n",
            "Matrix Multiplication:\n",
            "[41, 225]\n",
            "[925, 5205]\n"
          ]
        }
      ]
    },
    {
      "cell_type": "code",
      "source": [
        "\n",
        "# 3.\tWrite a Python Program to Transpose a Matrix\n",
        "rows = int(input(\"Enter the Number of rows : \" ))\n",
        "column = int(input(\"Enter the Number of Columns: \"))\n",
        "\n",
        "print(\"Enter the elements of Matrix:\")\n",
        "matrix= [[int(input()) for i in range(column)] for i in range(rows)]\n",
        "print(\"-------Your  Matrix is---------\")\n",
        "for n in matrix:\n",
        "    print(n)\n",
        "\n",
        "#result matrix of column*row  dimension\n",
        "\n",
        "result =[[0 for i in range(rows)] for j in range(column)]\n",
        "\n",
        "#transpose the matrix\n",
        "for r in range(rows):\n",
        "   \n",
        "   for c in range(column):\n",
        "       #here we are grabbing the row data of matrix and putting it in the column on the result\n",
        "       result[c][r] = matrix[r][c]\n",
        "\n",
        "print(\"Transpose matrix is: \")\n",
        "for r in result:\n",
        "    print(r)\n"
      ],
      "metadata": {
        "colab": {
          "base_uri": "https://localhost:8080/"
        },
        "id": "VbhH4vPCaAl_",
        "outputId": "02fe7d39-c1ce-4b7f-cc94-0ac11a1e0117"
      },
      "execution_count": 13,
      "outputs": [
        {
          "output_type": "stream",
          "name": "stdout",
          "text": [
            "Enter the Number of rows : 2\n",
            "Enter the Number of Columns: 3\n",
            "Enter the elements of Matrix:\n",
            "2\n",
            "5\n",
            "6\n",
            "9\n",
            "8\n",
            "5\n",
            "-------Your  Matrix is---------\n",
            "[2, 5, 6]\n",
            "[9, 8, 5]\n",
            "Transpose matrix is: \n",
            "[2, 9]\n",
            "[5, 8]\n",
            "[6, 5]\n"
          ]
        }
      ]
    },
    {
      "cell_type": "code",
      "source": [
        "\n",
        "# 4.\tWrite a Python Program to Sort Words in Alphabetic Order\n",
        "\n",
        "\n",
        "\n",
        "my_str = input(\"Enter a string: \")\n",
        "\n",
        "# breakdown the string into a list of words\n",
        "words = [word.lower() for word in my_str.split()]\n",
        "\n",
        "# sort the list\n",
        "words.sort()\n",
        "\n",
        "# display the sorted words\n",
        "\n",
        "print(\"The sorted words are:\")\n",
        "for word in words:\n",
        "   print(word)\n",
        "\n"
      ],
      "metadata": {
        "colab": {
          "base_uri": "https://localhost:8080/"
        },
        "id": "gxHBaXIraAp_",
        "outputId": "d33c23e4-6bd0-44fc-9c18-0529d0ab3a8d"
      },
      "execution_count": 15,
      "outputs": [
        {
          "output_type": "stream",
          "name": "stdout",
          "text": [
            "Enter a string: Hello this Is an Example With cased letters\n",
            "The sorted words are:\n",
            "an\n",
            "cased\n",
            "example\n",
            "hello\n",
            "is\n",
            "letters\n",
            "this\n",
            "with\n"
          ]
        }
      ]
    },
    {
      "cell_type": "code",
      "source": [
        "\n",
        "# 5.\tWrite a Python Program to Remove Punctuation From a String\n",
        "\n",
        "\n",
        "my_str = input(\"Enter a string: \")\n",
        "\n",
        "# remove punctuation from the string\n",
        "no_punct = \"\"\n",
        "for char in my_str:\n",
        "   if char not in punctuations:\n",
        "       no_punct = no_punct + char\n",
        "\n",
        "# display the unpunctuated string\n",
        "print(no_punct)\n"
      ],
      "metadata": {
        "colab": {
          "base_uri": "https://localhost:8080/"
        },
        "id": "-PJK7U5raAtP",
        "outputId": "89cca001-6e98-4577-efa2-e6d3375fc321"
      },
      "execution_count": 20,
      "outputs": [
        {
          "output_type": "stream",
          "name": "stdout",
          "text": [
            "Enter a string: ''!()-[]{};:'\"\\,hgvdcvrt<>ughfijfgt./?@#$%^&*_~''\n",
            "hgvdcvrtughfijfgt\n"
          ]
        }
      ]
    },
    {
      "cell_type": "code",
      "source": [
        ""
      ],
      "metadata": {
        "id": "A8RjX8DqaBbQ"
      },
      "execution_count": null,
      "outputs": []
    }
  ]
}