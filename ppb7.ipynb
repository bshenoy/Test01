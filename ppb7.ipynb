{
  "nbformat": 4,
  "nbformat_minor": 0,
  "metadata": {
    "colab": {
      "name": "ppb7.ipynb",
      "provenance": [],
      "collapsed_sections": []
    },
    "kernelspec": {
      "name": "python3",
      "display_name": "Python 3"
    },
    "language_info": {
      "name": "python"
    }
  },
  "cells": [
    {
      "cell_type": "code",
      "source": [
        "#1.)  Python code to find sum of array\n",
        "\n",
        "def _sum(arr): \n",
        "      \n",
        "    sum=0\n",
        "    for i in arr:\n",
        "        sum = sum + i\n",
        "    return(sum) \n",
        "  \n",
        "arr=[]\n",
        "n=int(input(\"Number of elements in array:\"))\n",
        "# taking input for array from the user\n",
        "for i in range(0,n):\n",
        "   l=int(input())\n",
        "   arr.append(l)\n",
        "print(\"The array is\", arr)\n",
        "\n",
        "\n",
        "n = len(arr) \n",
        "suma = _sum(arr) \n",
        "print ('Sum of the array is ', suma) \n",
        "  \n"
      ],
      "metadata": {
        "id": "EsCJ4xNPdw1V",
        "colab": {
          "base_uri": "https://localhost:8080/"
        },
        "outputId": "ea6b903f-992a-4390-e827-b2bf7344c768"
      },
      "execution_count": null,
      "outputs": [
        {
          "output_type": "stream",
          "name": "stdout",
          "text": [
            "Number of elements in array:5\n",
            "12\n",
            "155\n",
            "125\n",
            "25\n",
            "158\n",
            "The array is [12, 155, 125, 25, 158]\n",
            "Sum of the array is  475\n"
          ]
        }
      ]
    },
    {
      "cell_type": "code",
      "source": [
        "#2) Program to find largest element in array\n",
        "arr=[]\n",
        "n=int(input(\"Number of elements in array:\"))\n",
        "# taking input for array from the user\n",
        "for i in range(0,n):\n",
        "   l = int(input())\n",
        "   arr.append(l)\n",
        "print(\"The given array is\", arr)  \n",
        "     \n",
        "#Initialize max with first element of array.    \n",
        "max = arr[0]    \n",
        "     \n",
        "#Loop through the array    \n",
        "for i in range(0, len(arr)):    \n",
        "    #Compare elements of array with max    \n",
        "   if(arr[i] > max):   \n",
        "       max = arr[i]    \n",
        "           \n",
        "print(\"Largest element present in given array: \" + str(max))"
      ],
      "metadata": {
        "id": "3WGRTdKbNZA5"
      },
      "execution_count": null,
      "outputs": []
    },
    {
      "cell_type": "code",
      "source": [
        "# 3.) Function to rotate arrays in Python\n",
        "def rotateArrayLeft(arr, R, n):\n",
        "    for i in range(R):\n",
        "    \tfirstVal = arr[0]\n",
        "    \tfor i in range(n-1):\n",
        "    \t\tarr[i] = arr[i+1]\n",
        "    \tarr[n-1] = firstVal\n",
        "\n",
        "# Taking array input from user\n",
        "arr = [1, 2, 3, 4, 5, 6, 7]\n",
        "n = int(input(\"Enter number of elements of the array: \"))\n",
        "arr = []\n",
        "print(\"Enter elements of the array :\")\n",
        "for i in range(n):\n",
        "  numbers = int(input())\n",
        "  \n",
        "  arr.append(numbers)\n",
        "R = int(input(\"Enter rotation count: \"))\n",
        "\n",
        "# Printing array \n",
        "print(\"Initial Array :\", end = \" \")\n",
        "for i in range(n):\n",
        "\tprint (\"%d\"% arr[i],end=\" \")\n",
        "\t\n",
        "# Calling function for left Rotating array \n",
        "rotateArrayLeft(arr, R, n)\n",
        "\n",
        "# Printing new array \n",
        "print(\"\\nArray after rotation: \", end = \" \")\n",
        "for i in range(n):\n",
        "\tprint (\"%d\"% arr[i],end=\" \")\n"
      ],
      "metadata": {
        "id": "C50pXAnnNZD3",
        "colab": {
          "base_uri": "https://localhost:8080/"
        },
        "outputId": "db413a4e-483e-4566-e09b-6a56091c0cbe"
      },
      "execution_count": null,
      "outputs": [
        {
          "output_type": "stream",
          "name": "stdout",
          "text": [
            "Enter number of elements of the array: 3\n",
            "Enter elements of the array :\n",
            "1\n",
            "\t\n",
            "2\n",
            "\t\n",
            "1\n",
            "\t\n",
            "Enter rotation count: 2\n",
            "Initial Array : 1 2 1 \n",
            "Array after rotation:  1 1 2 "
          ]
        }
      ]
    },
    {
      "cell_type": "code",
      "source": [
        "#12245 4) Python Program to Split the array and add the first part to the end\n",
        "def SplitArray(arr, n, k):\n",
        "\tfor i in range(0, k):\n",
        "\t\tx = arr[0]\n",
        "\t\tfor j in range(0, n-1):\n",
        "\t\t\tarr[j] = arr[j + 1]\n",
        "\t\t\tarr[n-1] = x\t\t \n",
        "\t\t\t\"\"\" where arr = given array\n",
        "\t\t\t          n = len(arr)\n",
        "\t\t\t\t\t\t\t\tk = position of split\n",
        "\t\t\t\"\"\"\n",
        "\t\t\n",
        "\t\t\n",
        "n = int(input(\"Enter number of elements of the array: \"))\n",
        "arr = []\n",
        "print(\"Enter elements of the array :\")\n",
        "for i in range(n):\n",
        "  numbers = int(input())\n",
        "  arr.append(numbers)\n",
        "n = len(arr)\n",
        "print(\"the given array is: \", arr)\n",
        "position = int(input(\"Plesase anter position for split: \"))\n",
        "print(\"The array after split:\")\n",
        "SplitArray(arr, n, position)\n",
        "for i in range(0, n):\n",
        "\tprint(arr[i], end = ' ')"
      ],
      "metadata": {
        "colab": {
          "base_uri": "https://localhost:8080/"
        },
        "id": "0wzWVsffLcFV",
        "outputId": "782f49c1-8b49-460f-e785-d9c76fe29d2b"
      },
      "execution_count": 9,
      "outputs": [
        {
          "output_type": "stream",
          "name": "stdout",
          "text": [
            "Enter number of elements of the array: 15\n",
            "Enter elements of the array :\n",
            "12\n",
            "5\n",
            "5\n",
            "5\n",
            "8\n",
            "6\n",
            "9\n",
            "8\n",
            "9\n",
            "11\n",
            "258\n",
            "25525\n",
            "254\n",
            "24\n",
            "225\n",
            "the given array is:  [12, 5, 5, 5, 8, 6, 9, 8, 9, 11, 258, 25525, 254, 24, 225]\n",
            "plesase anter position for split:5\n",
            "the array after split:\n",
            "6 9 8 9 11 258 25525 254 24 225 12 5 5 5 8 "
          ]
        }
      ]
    },
    {
      "cell_type": "code",
      "source": [
        "# 5. Python Program to check if given array is Monotonic\n",
        "def monotone(a):\n",
        "    n=len(a) #size of array\n",
        "    if n==1:\n",
        "        return True\n",
        "    else:\n",
        "        #check for monotone behaviour\n",
        "        if all(a[i]>=a[i+1] for i in range(0,n-1) or a[i]<=a[i+1] for i in range(0,n-1)):\n",
        "            return True\n",
        "        else:\n",
        "            return False\n",
        "\n",
        "A = [6, 5, 4, 2]\n",
        "print(monotone(A))\n",
        "b = [6, 2, 4, 2]\n",
        "print(monotone(b))\n",
        "c=[4,3,2]\n",
        "print(monotone(c))\n",
        "d=[1]\n",
        "print(monotone(d))\n",
        "\n"
      ],
      "metadata": {
        "id": "fD6dTR_D3x0U",
        "colab": {
          "base_uri": "https://localhost:8080/"
        },
        "outputId": "af0fd30a-1448-4f19-9a7e-c03311f6ef4d"
      },
      "execution_count": 11,
      "outputs": [
        {
          "output_type": "stream",
          "name": "stdout",
          "text": [
            "True\n",
            "False\n",
            "True\n",
            "True\n"
          ]
        }
      ]
    }
  ]
}