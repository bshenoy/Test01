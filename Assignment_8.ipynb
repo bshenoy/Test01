{
  "nbformat": 4,
  "nbformat_minor": 0,
  "metadata": {
    "colab": {
      "name": "Assignment 8.ipynb",
      "provenance": [],
      "collapsed_sections": []
    },
    "kernelspec": {
      "name": "python3",
      "display_name": "Python 3"
    },
    "language_info": {
      "name": "python"
    }
  },
  "cells": [
    {
      "cell_type": "code",
      "execution_count": null,
      "metadata": {
        "id": "k427qLtGzKfb"
      },
      "outputs": [],
      "source": [
        "# 1.) PyInputPlus is not a part of the Python Standard Library so we need to install it separately using Pip."
      ]
    },
    {
      "cell_type": "code",
      "source": [
        "# 2.) The as pyip code in the import statement saves us from typing pyinputplus each time we want to call a PyInputPlus function."
      ],
      "metadata": {
        "id": "vHjqjY_5A_On"
      },
      "execution_count": null,
      "outputs": []
    },
    {
      "cell_type": "code",
      "source": [
        "# 3.)inputInt() accepts an integer value. This also takes additional parameters ‘min’, ‘max’, ‘greaterThan’ and ‘lessThan’  for bounds. Returns an int.\n",
        "# inputFloat() accepts a floating point numeric value. Also takes additional ‘min’, ‘max’, ‘greaterThan’ and ‘lessThan’  parameters. Returns a float."
      ],
      "metadata": {
        "id": "ghkjqz07A_TG"
      },
      "execution_count": null,
      "outputs": []
    },
    {
      "cell_type": "code",
      "source": [
        "# 4.)\tBy using pyip.inputint(max=100)"
      ],
      "metadata": {
        "id": "bgeEm36dA_WJ"
      },
      "execution_count": null,
      "outputs": []
    },
    {
      "cell_type": "code",
      "source": [
        "# 5.)The allowRegexes and blockRegexes keyword arguments take a list of regular expression strings to determine what the PyInputPlus function will accept or reject as valid input"
      ],
      "metadata": {
        "id": "3dYiQZZ9A_Y5"
      },
      "execution_count": null,
      "outputs": []
    },
    {
      "cell_type": "code",
      "source": [
        "# 6.) when we pass an integer for the limit keyword argument to determine how many attempts a PyInputPlus function will make to receive valid input before giving up. \n",
        "#  inputStr(limit=3), in this case it will allow only 3 attempts to pass valid input\n"
      ],
      "metadata": {
        "id": "J3Kkwl6gA_bn"
      },
      "execution_count": null,
      "outputs": []
    },
    {
      "cell_type": "code",
      "source": [
        "# 7.) When you use keyword arguments and also pass a default keyword argument, the function returns the default value instead of raising an exception. \n",
        "# inputStr(limit=3, default='hello'): here for an invalid input default value of hello will be given"
      ],
      "metadata": {
        "id": "C790pqmdA_eM"
      },
      "execution_count": null,
      "outputs": []
    }
  ]
}