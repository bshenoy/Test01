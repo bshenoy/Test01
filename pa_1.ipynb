{
  "nbformat": 4,
  "nbformat_minor": 0,
  "metadata": {
    "colab": {
      "name": "pa 1.ipynb",
      "provenance": [],
      "collapsed_sections": [],
      "toc_visible": true
    },
    "kernelspec": {
      "name": "python3",
      "display_name": "Python 3"
    },
    "language_info": {
      "name": "python"
    }
  },
  "cells": [
    {
      "cell_type": "code",
      "execution_count": null,
      "metadata": {
        "id": "qSsfIvlhcfSA"
      },
      "outputs": [],
      "source": [
        "# 1.)object-oriented Programming is  one of method that uses objects and classes in programming.\n",
        "#  It aims to implement real world entities like inheritance, polymorphisms, encapsulation, etc. in the programming."
      ]
    },
    {
      "cell_type": "code",
      "source": [
        "# 2.) Inheritance search is a search of the tree from bottom to top looking for the lowest occurrence of an attribute name in the class."
      ],
      "metadata": {
        "id": "g9ohPyTPojya"
      },
      "execution_count": null,
      "outputs": []
    },
    {
      "cell_type": "code",
      "source": [
        "# 3.) A class describes a data type. An instance of a class is an object of the data type that exists in memory."
      ],
      "metadata": {
        "id": "theOUuoldVn6"
      },
      "execution_count": null,
      "outputs": []
    },
    {
      "cell_type": "code",
      "source": [
        "# 4.) Self is the first argument to be passed in Constructor and Instance Method.\n",
        "\n",
        "# Self must be provided as a First parameter to the Instance method and If we don’t provide it will cause an error."
      ],
      "metadata": {
        "id": "zJzz3Boqo2Iq"
      },
      "execution_count": null,
      "outputs": []
    },
    {
      "cell_type": "code",
      "source": [
        "# 5.) The __init__ method is a Constructor which helps in initialing the object state."
      ],
      "metadata": {
        "id": "4X9wz8FglNiE"
      },
      "execution_count": null,
      "outputs": []
    },
    {
      "cell_type": "code",
      "source": [
        "# 6.) To create instances of a class, we need to call the class using class name and pass in whatever arguments defined in __init__ method."
      ],
      "metadata": {
        "id": "OWsUxjbSplki"
      },
      "execution_count": null,
      "outputs": []
    },
    {
      "cell_type": "code",
      "source": [
        "# 7.) class is created using the keyword class fallowed by user defined class name"
      ],
      "metadata": {
        "id": "7jbAY805ru4x"
      },
      "execution_count": null,
      "outputs": []
    },
    {
      "cell_type": "code",
      "source": [
        "# 8.) A superclass is the class from which many subclasses can be created. The subclasses inherit the characteristics of a superclass. \n",
        "# The superclass is also called as parent class"
      ],
      "metadata": {
        "id": "MkstZTcEsYln"
      },
      "execution_count": null,
      "outputs": []
    }
  ]
}