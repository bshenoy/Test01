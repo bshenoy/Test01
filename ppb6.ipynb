{
  "nbformat": 4,
  "nbformat_minor": 0,
  "metadata": {
    "colab": {
      "name": "ppb6.ipynb",
      "provenance": [],
      "collapsed_sections": []
    },
    "kernelspec": {
      "name": "python3",
      "display_name": "Python 3"
    },
    "language_info": {
      "name": "python"
    }
  },
  "cells": [
    {
      "cell_type": "code",
      "execution_count": 4,
      "metadata": {
        "id": "wlhltARdUJqe",
        "colab": {
          "base_uri": "https://localhost:8080/"
        },
        "outputId": "f4168cde-22f4-4adf-829f-cdd7a7e287aa"
      },
      "outputs": [
        {
          "output_type": "stream",
          "name": "stdout",
          "text": [
            "Enter number to get fibbnacci series: 15\n",
            "Fibonacci sequence:\n",
            "0\n",
            "1\n",
            "1\n",
            "2\n",
            "3\n",
            "5\n",
            "8\n",
            "13\n",
            "21\n",
            "34\n",
            "55\n",
            "89\n",
            "144\n",
            "233\n",
            "377\n"
          ]
        }
      ],
      "source": [
        "#1.)  Python program to display the Fibonacci sequence\n",
        "\n",
        "def recur_fib(n):\n",
        "   if n <= 1:\n",
        "       return n\n",
        "   else:\n",
        "       return(recur_fib(n-1) + recur_fib(n-2))\n",
        "\n",
        "nt = int(input(\"Enter number to get fibbnacci series: \"))\n",
        "\n",
        "\n",
        "if nt <= 0:\n",
        "   print(\"Plese enter a positive integer\")\n",
        "else:\n",
        "   print(\"Fibonacci sequence:\")\n",
        "   for i in range(nt):\n",
        "       print(recur_fib(i))"
      ]
    },
    {
      "cell_type": "code",
      "source": [
        "# 2.) Factorial of Number using recursion\n",
        "\n",
        "def recur_fact(n):\n",
        "   if n == 1:\n",
        "       return n\n",
        "   else:\n",
        "       return n*recur_fact(n-1)\n",
        "\n",
        "num = int(input(\"Enter number to get factorial: \"))\n",
        "\n",
        "# check if the number is negative\n",
        "if num < 0:\n",
        "   print(\"Sorry, factorial does not exist for negative numbers\")\n",
        "elif num == 0:\n",
        "   print(\"The factorial of 0 is 1\")\n",
        "else:\n",
        "   print(\"The factorial of\", num, \"is\", recur_fact(num))"
      ],
      "metadata": {
        "colab": {
          "base_uri": "https://localhost:8080/"
        },
        "id": "Bo0eD397fZn3",
        "outputId": "1aebe6d5-277a-4d60-9122-26899c1493ae"
      },
      "execution_count": 8,
      "outputs": [
        {
          "output_type": "stream",
          "name": "stdout",
          "text": [
            "Enter number to get factorial: 3\n",
            "The factorial of 3 is 6\n"
          ]
        }
      ]
    },
    {
      "cell_type": "code",
      "source": [
        "# 3.) calculation of BMI\n",
        "\n",
        "def BMI(height, weight):\n",
        "    bmi = weight/(height**2)\n",
        "    return bmi\n",
        "\n",
        "# Driver code\n",
        "height = float(input(\" enter your height:\" ))\n",
        "weight = float(input(\" enter your weight:\" ))\n",
        " \n",
        "# calling the BMI function\n",
        "bmi = BMI(height, weight)\n",
        "print(\"The BMI is\", format(bmi), \"so \", end='')\n",
        " \n",
        "# Conditions to find out BMI category\n",
        "if (bmi < 18.5):\n",
        "    print(\"underweight\")\n",
        " \n",
        "elif ( bmi >= 18.5 and bmi < 24.9):\n",
        "    print(\"Healthy\")\n",
        " \n",
        "elif ( bmi >= 24.9 and bmi < 30):\n",
        "    print(\"overweight\")\n",
        " \n",
        "elif ( bmi >=30):\n",
        "    print(\"Suffering from Obesity\")"
      ],
      "metadata": {
        "colab": {
          "base_uri": "https://localhost:8080/"
        },
        "id": "Mkp_ZCLSg6NN",
        "outputId": "fd27e686-c619-48b1-9783-149a1d78aa0b"
      },
      "execution_count": 13,
      "outputs": [
        {
          "output_type": "stream",
          "name": "stdout",
          "text": [
            " enter your height:1.625\n",
            " enter your weight:56\n",
            "The BMI is 21.207100591715978 so Healthy\n"
          ]
        }
      ]
    },
    {
      "cell_type": "code",
      "source": [
        "# 4.) logarithm value\n",
        "import math\n",
        "n = float(input(\"Enter a number to find logarithm: \"))\n",
        "\n",
        "if n==0:\n",
        "  print(\" enter valid number\")\n",
        "else:\n",
        "  print(\" the log of\", n , \" is\", math.log(n))\n",
        "\n"
      ],
      "metadata": {
        "colab": {
          "base_uri": "https://localhost:8080/"
        },
        "id": "691rr6Rbg6QP",
        "outputId": "65d52020-9236-442a-a62b-737702e94f1e"
      },
      "execution_count": 19,
      "outputs": [
        {
          "output_type": "stream",
          "name": "stdout",
          "text": [
            "Enter a number to find logarithm: 0\n",
            " enter valid number\n"
          ]
        }
      ]
    },
    {
      "cell_type": "code",
      "source": [
        "# 5.) Cube sum of first n natural numbers\n",
        "\n",
        "\n",
        "def cubesum (n):\n",
        "  sum = 0\n",
        "  for i in range(1, n+1):\n",
        "    sum += i*i*i\n",
        "  return sum\n",
        "\n",
        "n = int(input(\"Enter the numbers of terms to obtain cube sum: \"))\n",
        "print(\"cube sum upto\", n , \"number is\", cubesum(n))\n"
      ],
      "metadata": {
        "colab": {
          "base_uri": "https://localhost:8080/"
        },
        "id": "yJfjf_Cng6S4",
        "outputId": "49e632d7-27ad-4bbf-b8f7-28ee363cf5eb"
      },
      "execution_count": 32,
      "outputs": [
        {
          "output_type": "stream",
          "name": "stdout",
          "text": [
            "Enter the numbers of terms to obtain cube sum: 10\n",
            "cube sum upto 10 number is 3025\n"
          ]
        }
      ]
    },
    {
      "cell_type": "code",
      "source": [
        "# 5.) Cube sum of first n natural numbers\n",
        "n = int(input(\"Enter the numbers of terms to obtain cube sum: \"))\n",
        "sum = ((n*n)*(n+1)*(n+1))/4\n",
        "print(\"cube sum upto\", n , \"number is\", sum)\n"
      ],
      "metadata": {
        "colab": {
          "base_uri": "https://localhost:8080/"
        },
        "id": "AopO9fjRpG15",
        "outputId": "97197ba4-8cfc-4e9d-ebd6-e8bb61b21ec1"
      },
      "execution_count": 37,
      "outputs": [
        {
          "output_type": "stream",
          "name": "stdout",
          "text": [
            "Enter the numbers of terms to obtain cube sum: 10\n",
            "cube sum upto 10 number is 3025.0\n"
          ]
        }
      ]
    }
  ]
}