{
  "nbformat": 4,
  "nbformat_minor": 0,
  "metadata": {
    "colab": {
      "name": "pa3.ipynb",
      "provenance": [],
      "collapsed_sections": []
    },
    "kernelspec": {
      "name": "python3",
      "display_name": "Python 3"
    },
    "language_info": {
      "name": "python"
    }
  },
  "cells": [
    {
      "cell_type": "code",
      "source": [
        "# 1.) A class is called an Abstract class or super class  if it contains one or more abstract methods. An abstract method is a method that is declared but contains no implementation using pass. \n",
        "#  super classes are empty class and its abstract methods must be implemented by its subclasses."
      ],
      "metadata": {
        "id": "NBCkdE-JehTd"
      },
      "execution_count": null,
      "outputs": []
    },
    {
      "cell_type": "code",
      "source": [
        "# 2. when it contain assignment statement then result of it will considered as class variable."
      ],
      "metadata": {
        "id": "4ek47UVsfO_M"
      },
      "execution_count": null,
      "outputs": []
    },
    {
      "cell_type": "code",
      "source": [
        "# 3.) Because one needs to define something that is NOT done in the base class's  __init__ , and the only possibility to obtain that is to put its execution in a derived-class' __init__ function."
      ],
      "metadata": {
        "id": "CLYzAfykgHGx"
      },
      "execution_count": null,
      "outputs": []
    },
    {
      "cell_type": "code",
      "source": [
        "#  4.) Need to call class method either through an instance  or through the class instead of replacing it completely\n"
      ],
      "metadata": {
        "id": "1qB3T0r7k2v5"
      },
      "execution_count": null,
      "outputs": []
    },
    {
      "cell_type": "code",
      "source": [
        "# 5.) local scope only exist in block that it is declared in. Once that block ends and then variable is destroyed and its values lost. But global class has constant valur and all class funnction can access it. "
      ],
      "metadata": {
        "id": "fmd8IauWk2yw"
      },
      "execution_count": null,
      "outputs": []
    }
  ]
}