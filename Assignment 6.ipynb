{
  "nbformat": 4,
  "nbformat_minor": 0,
  "metadata": {
    "colab": {
      "name": "Ass6.ipynb",
      "provenance": [],
      "collapsed_sections": []
    },
    "kernelspec": {
      "name": "python3",
      "display_name": "Python 3"
    },
    "language_info": {
      "name": "python"
    }
  },
  "cells": [
    {
      "cell_type": "code",
      "execution_count": null,
      "metadata": {
        "id": "R0baXDSRENrs"
      },
      "outputs": [],
      "source": [
        "# 1.) An escape character is a backslash \\ followed by the character we want to insert."
      ]
    },
    {
      "cell_type": "code",
      "source": [
        "# 2.) \\n = newline, \\t = tab space"
      ],
      "metadata": {
        "id": "hwN6fCEBu1Rs"
      },
      "execution_count": null,
      "outputs": []
    },
    {
      "cell_type": "code",
      "source": [
        "# 3.) we need to use two blackslash inside the string to get one blackslash"
      ],
      "metadata": {
        "id": "mFGKZpiBvBeD"
      },
      "execution_count": null,
      "outputs": []
    },
    {
      "cell_type": "code",
      "source": [
        "# 4.) because the whole world is written inside the double quotes\n"
      ],
      "metadata": {
        "id": "QmLzngicwBPb"
      },
      "execution_count": null,
      "outputs": []
    },
    {
      "cell_type": "code",
      "source": [
        "# 5.) newline in the os package. its called linesep."
      ],
      "metadata": {
        "id": "oHP7P8VTwDYj"
      },
      "execution_count": null,
      "outputs": []
    },
    {
      "cell_type": "code",
      "source": [
        "# 6.) 'Hello, world!'[1] - 'e'\n",
        "# 'Hello, world!'[0:5] - 'Hello'\n",
        "# 'Hello, world!'[:5] - 'Hello'\n",
        "# 'Hello, world!'[3:] - 'lo, world!'\n"
      ],
      "metadata": {
        "id": "H_a7NU9HwFBj"
      },
      "execution_count": null,
      "outputs": []
    },
    {
      "cell_type": "code",
      "source": [
        "# 7.) 'Hello'.upper() - 'HELLO'\n",
        "# 'Hello'.upper().isupper() - True\n",
        "# 'Hello'.upper().lower() - 'hello'\n"
      ],
      "metadata": {
        "id": "H9TfYfOxwGuL"
      },
      "execution_count": null,
      "outputs": []
    },
    {
      "cell_type": "code",
      "source": [
        "# 8.) 'Remember, remember, the fifth of July.'.split() = ['Remember,', 'remember,', 'the', 'fifth', 'of', 'July.']\n",
        "# '-'.join('There can only one.'.split()) = 'There-can-only-one.'\n"
      ],
      "metadata": {
        "colab": {
          "base_uri": "https://localhost:8080/"
        },
        "id": "K7if9_FxzFty",
        "outputId": "b97cfac8-95cd-4544-9c00-d677b27735ec"
      },
      "execution_count": null,
      "outputs": [
        {
          "output_type": "execute_result",
          "data": {
            "text/plain": [
              "['Remember,', 'remember,', 'the', 'fifth', 'of', 'July.']"
            ]
          },
          "metadata": {},
          "execution_count": 16
        }
      ]
    },
    {
      "cell_type": "code",
      "source": [
        "# 9.)"
      ],
      "metadata": {
        "id": "KQyg8xNy0ORi"
      },
      "execution_count": null,
      "outputs": []
    },
    {
      "cell_type": "code",
      "source": [
        "# 10.) stringname.lstrip() = remove space from left side \n",
        "# stringname.rstrip() = remove space from right side "
      ],
      "metadata": {
        "id": "lq9ML5UQ0OZa"
      },
      "execution_count": null,
      "outputs": []
    },
    {
      "cell_type": "code",
      "source": [
        ""
      ],
      "metadata": {
        "id": "9-JRHCtSkZIx"
      },
      "execution_count": null,
      "outputs": []
    }
  ]
}