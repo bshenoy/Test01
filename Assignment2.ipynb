{
  "nbformat": 4,
  "nbformat_minor": 0,
  "metadata": {
    "colab": {
      "name": "Assignment2.ipynb",
      "provenance": [],
      "collapsed_sections": []
    },
    "kernelspec": {
      "name": "python3",
      "display_name": "Python 3"
    },
    "language_info": {
      "name": "python"
    }
  },
  "cells": [
    {
      "cell_type": "code",
      "execution_count": null,
      "metadata": {
        "id": "dYKseqdejXUG"
      },
      "outputs": [],
      "source": [
        "# 1) it has two possible values True and False \n",
        "#  we can use True as 1 or yes\n",
        "#             False as 0 or No"
      ]
    },
    {
      "cell_type": "code",
      "source": [
        "# 2) and, or, not are basic boolen operator"
      ],
      "metadata": {
        "id": "4LAo5I-FruaG"
      },
      "execution_count": null,
      "outputs": []
    },
    {
      "cell_type": "code",
      "source": [
        "# 3)\n",
        "# AND \n",
        "# a b y= A*B\n",
        "# 1 1    1\n",
        "# 1 0    0\n",
        "# 0 1    0\n",
        "# 0 0    0\n",
        "# OR \n",
        "# a b y= A+B\n",
        "# 1 1    0\n",
        "# 1 0    1\n",
        "# 0 1    1\n",
        "# 0 0    1\n",
        "# NOT \n",
        "# a  y\n",
        "# 1  0\n",
        "# 0  1\n",
        "\n"
      ],
      "metadata": {
        "id": "Q838dsWbr2oO"
      },
      "execution_count": null,
      "outputs": []
    },
    {
      "cell_type": "code",
      "source": [
        "# 4)  (5 > 4) and (3 == 5) - False\n",
        "#     =0\n",
        "\n",
        "#     not (5 > 4)- False\n",
        "#     = False\n",
        "\n",
        "#    (5 > 4) or (3 == 5) - True\n",
        "#      = True\n",
        "    \n",
        "#    not ((5 > 4) or (3 == 5)) - False\n",
        "#     =  False\n",
        "\n",
        "#    (True and True) and (True == False) - False\n",
        "#     = 0\n",
        "    \n",
        "#    (not False) or (not True) - True\n",
        "#     = True\n",
        "\n",
        "\n"
      ],
      "metadata": {
        "id": "2pJ7TAQYsobl"
      },
      "execution_count": null,
      "outputs": []
    },
    {
      "cell_type": "code",
      "source": [
        "# 5) Comparision operator \n",
        "#    equal to, not equal to, greater than, greater than equal to, less than, less than or equal to\n",
        "   "
      ],
      "metadata": {
        "id": "AXa1HE25vl5M"
      },
      "execution_count": null,
      "outputs": []
    },
    {
      "cell_type": "code",
      "source": [
        "# 6) equality operator ==, assignment operator =\n",
        "#    assignment operator used for assigning value to variable element\n",
        "#    equality operator used for comparing the expression such as string, boolen values, variables etc.\n",
        "  "
      ],
      "metadata": {
        "id": "L0Gu2v55s6ib"
      },
      "execution_count": null,
      "outputs": []
    },
    {
      "cell_type": "code",
      "source": [
        "# 7)  1st block:\n",
        "#     spam = 0\n",
        "#     if spam == 10:\n",
        "#      print('eggs')\n",
        "\n",
        "#     2nd block:\n",
        "#     if spam > 5:\n",
        "#       print('bacon')\n",
        "\n",
        "#     3rd block:\n",
        "#     else:\n",
        "#       print('ham')\n",
        "#       print('spam')\n",
        "#       print('spam')\n"
      ],
      "metadata": {
        "colab": {
          "base_uri": "https://localhost:8080/",
          "height": 235
        },
        "id": "yhXrpSFCs8Ik",
        "outputId": "a601a76b-8a0a-44b6-bb2e-a5f5feb0ad86"
      },
      "execution_count": null,
      "outputs": [
        {
          "output_type": "error",
          "ename": "NameError",
          "evalue": "ignored",
          "traceback": [
            "\u001b[0;31m---------------------------------------------------------------------------\u001b[0m",
            "\u001b[0;31mNameError\u001b[0m                                 Traceback (most recent call last)",
            "\u001b[0;32m<ipython-input-19-c1f3f8223fb8>\u001b[0m in \u001b[0;36m<module>\u001b[0;34m()\u001b[0m\n\u001b[0;32m----> 1\u001b[0;31m \u001b[0;32mif\u001b[0m \u001b[0mspam\u001b[0m \u001b[0;34m==\u001b[0m \u001b[0;36m10\u001b[0m\u001b[0;34m:\u001b[0m\u001b[0;34m\u001b[0m\u001b[0;34m\u001b[0m\u001b[0m\n\u001b[0m\u001b[1;32m      2\u001b[0m   \u001b[0mprint\u001b[0m\u001b[0;34m(\u001b[0m\u001b[0;34m\"bacon\"\u001b[0m\u001b[0;34m)\u001b[0m\u001b[0;34m\u001b[0m\u001b[0;34m\u001b[0m\u001b[0m\n\u001b[1;32m      3\u001b[0m \u001b[0;32melse\u001b[0m\u001b[0;34m:\u001b[0m\u001b[0;34m\u001b[0m\u001b[0;34m\u001b[0m\u001b[0m\n\u001b[1;32m      4\u001b[0m   \u001b[0mprint\u001b[0m\u001b[0;34m(\u001b[0m\u001b[0;34m\"\"\u001b[0m\u001b[0;34m)\u001b[0m\u001b[0;34m\u001b[0m\u001b[0;34m\u001b[0m\u001b[0m\n\u001b[1;32m      5\u001b[0m \u001b[0;34m\u001b[0m\u001b[0m\n",
            "\u001b[0;31mNameError\u001b[0m: name 'spam' is not defined"
          ]
        }
      ]
    },
    {
      "cell_type": "code",
      "source": [
        "\n",
        "#8) spam = input(\"Please enter 1, 2 or 3\")\n",
        "# if spam == 1:\n",
        "#   print(\"hello\")\n",
        "# elif spam == 2:\n",
        "#   print(\"Howdy!\")\n",
        "# else:\n",
        "#   print(\"Greetings!\")\n",
        " \n"
      ],
      "metadata": {
        "colab": {
          "base_uri": "https://localhost:8080/"
        },
        "id": "ggDkkAizttv8",
        "outputId": "0fd93060-1a2b-4c6b-ad41-79edbe16efa9"
      },
      "execution_count": null,
      "outputs": [
        {
          "output_type": "stream",
          "name": "stdout",
          "text": [
            "Please enter 1, 2 or 36\n",
            "Greetings!\n"
          ]
        }
      ]
    },
    {
      "cell_type": "code",
      "source": [
        "# 9) Cntrl-C"
      ],
      "metadata": {
        "id": "V1iUEVzV5wvW"
      },
      "execution_count": null,
      "outputs": []
    },
    {
      "cell_type": "code",
      "source": [
        "# 10) Break and continue\n",
        "# break = when we want to come out of execution of loop we use break \n",
        "# continue = used as instruction for continuing execution of loop\n"
      ],
      "metadata": {
        "id": "rPr-qGJqs9n8"
      },
      "execution_count": null,
      "outputs": []
    },
    {
      "cell_type": "code",
      "source": [
        "# 11) range(10), range(0,10) and range (0, 10 , 1)\n",
        "# range(10) = here only stop value is mentioned\n",
        "# range(0, 10) = here both start, stop point of range is given\n",
        "# range(0, 10, 1) = both start, stop along with the step size is given here "
      ],
      "metadata": {
        "id": "WToQes5-s_uU"
      },
      "execution_count": null,
      "outputs": []
    },
    {
      "cell_type": "code",
      "source": [
        "# 12)  a.  for i in range(0, 10):\n",
        "#            print(i)\n",
        "#      b.   a = 1\n",
        "#           while (a<=10):\n",
        "#             print(a)\n",
        "#             a = a+1\n"
      ],
      "metadata": {
        "id": "BxYrymB6tBel"
      },
      "execution_count": null,
      "outputs": []
    },
    {
      "cell_type": "code",
      "source": [
        "# 13) spam.bacon()"
      ],
      "metadata": {
        "id": "uLZIPz6a8Lrq"
      },
      "execution_count": null,
      "outputs": []
    }
  ]
}