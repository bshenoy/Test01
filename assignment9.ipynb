{
  "nbformat": 4,
  "nbformat_minor": 0,
  "metadata": {
    "colab": {
      "name": "assignment9.ipynb",
      "provenance": [],
      "collapsed_sections": []
    },
    "kernelspec": {
      "name": "python3",
      "display_name": "Python 3"
    },
    "language_info": {
      "name": "python"
    }
  },
  "cells": [
    {
      "cell_type": "code",
      "execution_count": null,
      "metadata": {
        "id": "g6XlL_3kSGiq"
      },
      "outputs": [],
      "source": [
        "# 1.) relpath() method in Python is used to get a relative filepath to the given path either from the current working directory "
      ]
    },
    {
      "cell_type": "code",
      "source": [
        "# 2.)  Absolute paths start with the root folder, such as / or C:\\.\n",
        "# An absolute path refers to the details needed to locate a file or folder, starting from the root element\n",
        "#  and ending with the other subdirectories. Absolute paths are used in websites and operating systems for locating files and folders"
      ],
      "metadata": {
        "id": "gSnqlIfOSfwp"
      },
      "execution_count": null,
      "outputs": []
    },
    {
      "cell_type": "code",
      "source": [
        "# 3.) os. getcwd() method tells us the location of current working directory (CWD) and os.chdir() method in Python used to change the current working directory to specified path."
      ],
      "metadata": {
        "id": "kO7BiMDaSfzo"
      },
      "execution_count": null,
      "outputs": []
    },
    {
      "cell_type": "code",
      "source": [
        "# 4.)The . is the current directory, while .. signifies the parent directory. "
      ],
      "metadata": {
        "id": "0gdhG40SSf1i"
      },
      "execution_count": null,
      "outputs": []
    },
    {
      "cell_type": "code",
      "source": [
        "# 5.)C:\\bacon\\eggs is the dir name, while spam.txt is the base name."
      ],
      "metadata": {
        "id": "sy6TD0gRSf34"
      },
      "execution_count": null,
      "outputs": []
    },
    {
      "cell_type": "code",
      "source": [
        "# 6.) The string 'r' for read mode, 'w' for write mode, and 'a' for append mode"
      ],
      "metadata": {
        "id": "SKaZeomVSf6r"
      },
      "execution_count": null,
      "outputs": []
    },
    {
      "cell_type": "code",
      "source": [
        "# 7.) An existing file opened in write mode is erased and completely overwritten."
      ],
      "metadata": {
        "id": "5YhwKhBYUx9C"
      },
      "execution_count": null,
      "outputs": []
    },
    {
      "cell_type": "code",
      "source": [
        "# 8.) The read() method returns the file's entire contents as a single string value. The readlines() method returns a list of strings,\n",
        "#  where each string is a line from the file's contents."
      ],
      "metadata": {
        "id": "51DgTUwPU4Bp"
      },
      "execution_count": null,
      "outputs": []
    },
    {
      "cell_type": "code",
      "source": [
        "#9.) A shelf value resembles a dictionary value; it has keys and values, along with keys() and values() methods that work similarly to the dictionary methods of the same names."
      ],
      "metadata": {
        "id": "hTWuNy1pU4E0"
      },
      "execution_count": null,
      "outputs": []
    },
    {
      "cell_type": "code",
      "source": [
        ""
      ],
      "metadata": {
        "id": "aOBrsSdVUx_g"
      },
      "execution_count": null,
      "outputs": []
    }
  ]
}