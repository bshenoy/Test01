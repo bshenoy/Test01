{
  "nbformat": 4,
  "nbformat_minor": 0,
  "metadata": {
    "colab": {
      "name": "ppb5.ipynb",
      "provenance": [],
      "collapsed_sections": []
    },
    "kernelspec": {
      "name": "python3",
      "display_name": "Python 3"
    },
    "language_info": {
      "name": "python"
    }
  },
  "cells": [
    {
      "cell_type": "code",
      "source": [
        "# 1.) Python Program to find the LCM of Two Numbers \n",
        "num1 = int(input(\"Enter first number: \"))\n",
        "num2 = int(input(\"Enter second number: \"))\n",
        "if(num1 > num2 ):   # Use If condition to find the greatest number among these two.\n",
        "    max= num1\n",
        "else:\n",
        "    max= num2\n",
        "while(True):\n",
        "    if(max % num1 == 0 and max % num2 == 0):   \n",
        "        print(max)\n",
        "        break;\n",
        "    max= max+ 1"
      ],
      "metadata": {
        "colab": {
          "base_uri": "https://localhost:8080/"
        },
        "outputId": "eda538f4-4e14-4cba-899e-c22e8ff24c8a",
        "id": "gRzMduTOCz1l"
      },
      "execution_count": null,
      "outputs": [
        {
          "output_type": "stream",
          "name": "stdout",
          "text": [
            "Enter first number: 15\n",
            "Enter second number: 26\n",
            "390\n"
          ]
        }
      ]
    },
    {
      "cell_type": "code",
      "source": [
        "# 2.) program to get HCF of numbers\n",
        "a=int(input(\"Enter the first number:\"))\n",
        "b=int(input(\"Enter the second number:\"))\n",
        "if(a<b):\n",
        "    min=a\n",
        "else:\n",
        "    min = b\n",
        "for i in range(1, min+1):\n",
        "    if(a%i==0 and b%i==0):\n",
        "        hcf = i\n",
        "print(\"HCF is:\", hcf)"
      ],
      "metadata": {
        "id": "IWwCg21Q6eH2",
        "colab": {
          "base_uri": "https://localhost:8080/"
        },
        "outputId": "be0ad571-cc81-4414-93f5-377c59fb1e67"
      },
      "execution_count": null,
      "outputs": [
        {
          "output_type": "stream",
          "name": "stdout",
          "text": [
            "Enter the first number:10\n",
            "Enter the second number:40\n",
            "HCF is: 10\n"
          ]
        }
      ]
    },
    {
      "cell_type": "code",
      "source": [
        ""
      ],
      "metadata": {
        "id": "vkRhGMwjCs_E"
      },
      "execution_count": null,
      "outputs": []
    },
    {
      "cell_type": "code",
      "source": [
        "# 3.) Program to convert decimal to binary, octal and hexadecimal\n",
        "# Python program to convert decimal into other number systems\n",
        "dec = int(input(\"Enter an integer: \"))\n",
        "\n",
        "print(\"The decimal value of\", dec, \"is:\")\n",
        "print(bin(dec), \"in binary.\")\n",
        "print(oct(dec), \"in octal.\")\n",
        "print(hex(dec), \"in hexadecimal.\")\n"
      ],
      "metadata": {
        "colab": {
          "base_uri": "https://localhost:8080/"
        },
        "id": "ksvZafFD6gbO",
        "outputId": "0b97ee38-f905-4991-d51d-74bf8f664994"
      },
      "execution_count": 10,
      "outputs": [
        {
          "output_type": "stream",
          "name": "stdout",
          "text": [
            "Enter an integer: 15\n",
            "The decimal value of 15 is:\n",
            "0b1111 in binary.\n",
            "0o17 in octal.\n",
            "0xf in hexadecimal.\n"
          ]
        }
      ]
    },
    {
      "cell_type": "code",
      "source": [
        "# 4.) \n",
        "c = input (\"Enter the number whose ASCII code needs to be found: \")\n",
        "\n",
        "print (\"The ASCII value of given character is\", ord (c ))"
      ],
      "metadata": {
        "colab": {
          "base_uri": "https://localhost:8080/"
        },
        "id": "keHeSljv6geO",
        "outputId": "6e619880-75ad-475d-95b5-bd5dbc73ca93"
      },
      "execution_count": 13,
      "outputs": [
        {
          "output_type": "stream",
          "name": "stdout",
          "text": [
            "Enter the number whose ASCII code needs to be found: a\n",
            "The ASCII value of given character is 97\n"
          ]
        }
      ]
    },
    {
      "cell_type": "code",
      "source": [
        "# 5.) CALCULATOR FOR BASIC MATHAMATICAL OPERATION\n",
        "print(\"choose any one operation\")\n",
        "print(\"Addition = 1\\nSubtarction =2\\nMultiplication = 3\\nDivision = 4\\n\")\n",
        "\n",
        "a = int(input(\"Choose the above option\"))\n",
        "print(\" Enter the numbers\")\n",
        "b = int(input(\"Enter first number\"))\n",
        "c = int(input())\n",
        "if a==1:\n",
        "  d = b+c\n",
        "  print(\"Result of addition is :\", d)\n",
        "elif a==2:\n",
        "  d = b-c\n",
        "  print(\"Result of substraction is \", d)\n",
        "elif a==3:\n",
        "  d = b*c\n",
        "  print(\"Result of multiplication is \", d)\n",
        "else:\n",
        "  d = b/c\n",
        "  print(\"Result of division is \", d)\n",
        "\n",
        "   \n",
        "\n"
      ],
      "metadata": {
        "colab": {
          "base_uri": "https://localhost:8080/"
        },
        "id": "OVK__wb_Qllv",
        "outputId": "faa0973d-c433-428f-adda-5ac7c4fd3336"
      },
      "execution_count": null,
      "outputs": [
        {
          "output_type": "stream",
          "name": "stdout",
          "text": [
            "choose any one operation\n",
            "Addition = 1\n",
            "Subtarction =2\n",
            "Multiplication = 3\n",
            "Division = 4\n",
            "\n",
            "Choose the above option2\n",
            " Enter the numbers\n",
            "12\n",
            "12\n",
            "Result of substraction is  0\n"
          ]
        }
      ]
    },
    {
      "cell_type": "code",
      "source": [
        ""
      ],
      "metadata": {
        "id": "9vXa_aKzQmF2"
      },
      "execution_count": null,
      "outputs": []
    },
    {
      "cell_type": "code",
      "source": [
        ""
      ],
      "metadata": {
        "id": "wbz-_X7NQmLe"
      },
      "execution_count": null,
      "outputs": []
    }
  ]
}