{
  "nbformat": 4,
  "nbformat_minor": 0,
  "metadata": {
    "colab": {
      "name": "Assignment7.ipynb",
      "provenance": [],
      "collapsed_sections": []
    },
    "kernelspec": {
      "name": "python3",
      "display_name": "Python 3"
    },
    "language_info": {
      "name": "python"
    }
  },
  "cells": [
    {
      "cell_type": "code",
      "execution_count": null,
      "metadata": {
        "id": "1mhm6PKZDkiv"
      },
      "outputs": [],
      "source": [
        "# 1.) re.compile() function returns Regex object"
      ]
    },
    {
      "cell_type": "code",
      "source": [
        "# 2.) Raw strings are used so that backslashes do not have to be escaped."
      ],
      "metadata": {
        "id": "-QtO1od1DtIp"
      },
      "execution_count": null,
      "outputs": []
    },
    {
      "cell_type": "code",
      "source": [
        "# 3.) The search() method returns Match objects"
      ],
      "metadata": {
        "id": "RKMbgiI6Ef8Z"
      },
      "execution_count": null,
      "outputs": []
    },
    {
      "cell_type": "code",
      "source": [
        "# 4.) The group() method returns items of the matched text."
      ],
      "metadata": {
        "id": "B1Y7K0jQElai"
      },
      "execution_count": null,
      "outputs": []
    },
    {
      "cell_type": "code",
      "source": [
        "# 5.)Group 0 is the entire match, group 1 covers the first set of parentheses, and group 2 covers the second set of parentheses."
      ],
      "metadata": {
        "id": "2W76W_fsEpHM"
      },
      "execution_count": null,
      "outputs": []
    },
    {
      "cell_type": "code",
      "source": [
        "# 6.) Periods and parentheses can be escaped with a backslash: \\., \\(, and \\)."
      ],
      "metadata": {
        "id": "khkjfdh6EpKx"
      },
      "execution_count": null,
      "outputs": []
    },
    {
      "cell_type": "code",
      "source": [
        "# 7.) If the regex has no groups then list of strings is returned and If the regex has groups then list of tuples of strings is returned."
      ],
      "metadata": {
        "id": "RNZp9Mi3EpNO"
      },
      "execution_count": null,
      "outputs": []
    },
    {
      "cell_type": "code",
      "source": [
        "# 8.) The | character signifies matching \"either, or\" between two groups."
      ],
      "metadata": {
        "id": "ecEbT0WUEpP4"
      },
      "execution_count": null,
      "outputs": []
    },
    {
      "cell_type": "code",
      "source": [
        "# 9.) The ? character can either mean \"match zero or one of the preceding group\" or be used to signify nongreedy matching."
      ],
      "metadata": {
        "id": "Sh-xjVcMEpSp"
      },
      "execution_count": null,
      "outputs": []
    },
    {
      "cell_type": "code",
      "source": [
        "# 10.)The + matches one or more. The * matches zero or more."
      ],
      "metadata": {
        "id": "1tzJNo40E-c-"
      },
      "execution_count": null,
      "outputs": []
    },
    {
      "cell_type": "code",
      "source": [
        "# 11.) The {4} matches exactly three instances of the preceding group. The {4,5} matches between three and five instances."
      ],
      "metadata": {
        "id": "A_4vNYJIFDQB"
      },
      "execution_count": null,
      "outputs": []
    },
    {
      "cell_type": "code",
      "source": [
        "# 12.) The \\d, \\w, and \\s shorthand character classes match a single digit, word, or space character, respectively."
      ],
      "metadata": {
        "id": "5mBnqodFG7vI"
      },
      "execution_count": null,
      "outputs": []
    },
    {
      "cell_type": "code",
      "source": [
        "# 13.) The \\D, \\W, and \\S shorthand character classes match a single character that is not a digit, word, or space character, respectively."
      ],
      "metadata": {
        "id": "gAWzBu1aG9qn"
      },
      "execution_count": null,
      "outputs": []
    },
    {
      "cell_type": "code",
      "source": [
        "# 14.) The . performs a greedy match, and the .? performs a nongreedy match."
      ],
      "metadata": {
        "id": "Jqks_G5sG9s_"
      },
      "execution_count": null,
      "outputs": []
    },
    {
      "cell_type": "code",
      "source": [
        "# 15.) Either [0-9a-z] or [a-z0-9]\n"
      ],
      "metadata": {
        "id": "LRanrTM6G9yd"
      },
      "execution_count": null,
      "outputs": []
    },
    {
      "cell_type": "code",
      "source": [
        "# 16.) Passing re.I or re.IGNORECASE as the second argument to re.compile() will make the matching case insensitive."
      ],
      "metadata": {
        "id": "xXEKCGmzG91U"
      },
      "execution_count": null,
      "outputs": []
    },
    {
      "cell_type": "code",
      "source": [
        "# 17.) The . character normally matches any character except the newline character. If re.DOTALL is passed as the second argument \n",
        "# to re.compile(), then the dot will also match newline characters."
      ],
      "metadata": {
        "id": "vcD6ndvrHW-O"
      },
      "execution_count": null,
      "outputs": []
    },
    {
      "cell_type": "code",
      "source": [
        "# 18.)'X drummers, X pipers, five rings, X hens'"
      ],
      "metadata": {
        "id": "PopGtcVIPCGe"
      },
      "execution_count": null,
      "outputs": []
    },
    {
      "cell_type": "code",
      "source": [
        "# 19.) The re.VERBOSE argument allow to add whitespace and comments to the string passed to re.compile()"
      ],
      "metadata": {
        "id": "Ff3lcanUHYqh"
      },
      "execution_count": null,
      "outputs": []
    },
    {
      "cell_type": "code",
      "source": [
        "# 20.) re.compile(r'^\\d{1,3}(,\\d{3})*$') will create this regex, but other regex strings can produce a similar regular expression."
      ],
      "metadata": {
        "id": "nBv0GN6ENz8I"
      },
      "execution_count": null,
      "outputs": []
    },
    {
      "cell_type": "code",
      "source": [
        "# 21.) re.compile(r'[A-Z][a-z]*\\sNakamoto')"
      ],
      "metadata": {
        "id": "vQQY_9LKNz-r"
      },
      "execution_count": null,
      "outputs": []
    },
    {
      "cell_type": "code",
      "source": [
        "# 22.) re.compile(r'(Alice|Bob|Carol)\\s(eats|pets|throws)\\s(apples|cats|baseballs)\\.', re.IGNORECASE)"
      ],
      "metadata": {
        "id": "ZpEfqsEBPmc8"
      },
      "execution_count": null,
      "outputs": []
    }
  ]
}