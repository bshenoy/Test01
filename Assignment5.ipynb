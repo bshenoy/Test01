{
  "nbformat": 4,
  "nbformat_minor": 0,
  "metadata": {
    "colab": {
      "name": "ASS 5.ipynb",
      "provenance": [],
      "collapsed_sections": []
    },
    "kernelspec": {
      "name": "python3",
      "display_name": "Python 3"
    },
    "language_info": {
      "name": "python"
    }
  },
  "cells": [
    {
      "cell_type": "code",
      "source": [
        "# 1.) emptydict = {}  OR emptydict = dict()\n"
      ],
      "metadata": {
        "id": "dVP4d1sa_2st"
      },
      "execution_count": null,
      "outputs": []
    },
    {
      "cell_type": "code",
      "source": [
        "# 2.) {\"foo\": 42}"
      ],
      "metadata": {
        "id": "pOygV78eACB7"
      },
      "execution_count": null,
      "outputs": []
    },
    {
      "cell_type": "code",
      "source": [
        "#  3.) A list is an ordered sequence of objects, whereas dictionaries are unordered sets and the main difference\n",
        "# is that items in dictionaries are accessed via keys and not via their position. \n",
        " \n"
      ],
      "metadata": {
        "id": "lboEQpP7AQbj"
      },
      "execution_count": null,
      "outputs": []
    },
    {
      "cell_type": "code",
      "source": [
        "# 4.) will get a KeyError error."
      ],
      "metadata": {
        "id": "0q-JRqDuBDiV"
      },
      "execution_count": null,
      "outputs": []
    },
    {
      "cell_type": "code",
      "source": [
        "# 5.) There is no difference. The in operator checks whether a value exists as a key in the dictionary."
      ],
      "metadata": {
        "id": "YDg8LM2ABjKs"
      },
      "execution_count": null,
      "outputs": []
    },
    {
      "cell_type": "code",
      "source": [
        "# 6.)'cat' in spam checks whether there is a 'cat' key in the dictionary, while 'cat' in spam.values() checks whether there is a value 'cat' for one of the keys in spam. "
      ],
      "metadata": {
        "id": "8F1uGsc1CfPd"
      },
      "execution_count": null,
      "outputs": []
    },
    {
      "cell_type": "code",
      "source": [
        "# 7.)spam.setdefault('color', 'black')"
      ],
      "metadata": {
        "id": "ss_l5s5jCw0M"
      },
      "execution_count": null,
      "outputs": []
    },
    {
      "cell_type": "code",
      "source": [
        "# 8.)pprint.pprint()"
      ],
      "metadata": {
        "id": "5zmX0rGJEDYk"
      },
      "execution_count": null,
      "outputs": []
    }
  ]
}